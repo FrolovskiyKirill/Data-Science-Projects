{
  "nbformat": 4,
  "nbformat_minor": 0,
  "metadata": {
    "colab": {
      "provenance": [],
      "toc_visible": true,
      "mount_file_id": "1jMu5csRhYbTwBKQQ_ZlZM-Xp7ROChSXL",
      "authorship_tag": "ABX9TyMydk22OeCkJKFLyOSXGOrs"
    },
    "kernelspec": {
      "name": "python3",
      "display_name": "Python 3"
    },
    "language_info": {
      "name": "python"
    }
  },
  "cells": [
    {
      "cell_type": "markdown",
      "source": [
        "# Обзор данных.\n",
        "Перед нами данные сервиса Яндекс.Недвижимость — архив объявлений о продаже квартир в Санкт-Петербурге и соседних населённых пунктах за несколько лет. Нужно опредилить рыночную стоимость объектов недвижимости. В таблице указаны стандартные данные пользователей как цена квартиры, площадь, этаж, цена, так и данные сгенерированные автоматически."
      ],
      "metadata": {
        "id": "fbewtqzvk3CC"
      }
    },
    {
      "cell_type": "code",
      "execution_count": 10,
      "metadata": {
        "colab": {
          "base_uri": "https://localhost:8080/",
          "height": 613
        },
        "id": "6EEyJnVebeQA",
        "outputId": "e4628e79-6bf2-4167-e0b3-eca537345da1"
      },
      "outputs": [
        {
          "output_type": "stream",
          "name": "stdout",
          "text": [
            "Warning: Total number of columns (22) exceeds max_columns (20). Falling back to pandas display.\n"
          ]
        },
        {
          "output_type": "execute_result",
          "data": {
            "text/plain": [
              "       total_images  last_price  total_area first_day_exposition  rooms  \\\n",
              "22968             7   6700000.0       54.00  2017-11-08T00:00:00      3   \n",
              "19543            11   4550000.0       50.00  2015-12-15T00:00:00      2   \n",
              "17390            20   2600000.0       70.00  2017-11-23T00:00:00      3   \n",
              "23316            16   6300000.0       39.40  2016-05-16T00:00:00      1   \n",
              "17791             9  23999088.0       90.00  2017-02-16T00:00:00      2   \n",
              "9093              1  16359000.0       77.90  2019-04-01T00:00:00      1   \n",
              "23138             2   3930000.0       54.00  2018-03-03T00:00:00      2   \n",
              "19758             1   4078000.0       43.15  2016-02-11T00:00:00      1   \n",
              "12887             5   3100000.0       30.00  2018-10-01T00:00:00      1   \n",
              "20095             7   2800000.0       31.60  2017-09-09T00:00:00      1   \n",
              "\n",
              "       ceiling_height  floors_total  living_area  floor is_apartment  ...  \\\n",
              "22968             NaN           3.0        36.00      2          NaN  ...   \n",
              "19543             NaN           9.0        30.00      7          NaN  ...   \n",
              "17390             2.6           5.0        44.00      4          NaN  ...   \n",
              "23316             3.1           5.0        16.00      2        False  ...   \n",
              "17791             3.1           8.0        35.90      5          NaN  ...   \n",
              "9093              3.0          11.0        40.40      4        False  ...   \n",
              "23138             NaN          19.0        30.00      9          NaN  ...   \n",
              "19758             2.7          14.0        15.34      6          NaN  ...   \n",
              "12887             NaN           5.0        16.00      4          NaN  ...   \n",
              "20095             NaN           5.0        18.10      2          NaN  ...   \n",
              "\n",
              "       kitchen_area  balcony     locality_name  airports_nearest  \\\n",
              "22968         10.00      NaN   Санкт-Петербург           22878.0   \n",
              "19543          7.00      NaN   Санкт-Петербург           14358.0   \n",
              "17390          8.30      2.0  деревня Бегуницы               NaN   \n",
              "23316         11.40      1.0            Пушкин           15696.0   \n",
              "17791         20.00      2.0   Санкт-Петербург               NaN   \n",
              "9093          11.80      NaN   Санкт-Петербург           28282.0   \n",
              "23138         10.00      1.0   Санкт-Петербург           22104.0   \n",
              "19758         19.28      0.0   деревня Кудрово               NaN   \n",
              "12887          6.00      NaN   Санкт-Петербург           21816.0   \n",
              "20095          5.10      NaN        Сестрорецк           58223.0   \n",
              "\n",
              "      cityCenters_nearest  parks_around3000  parks_nearest  ponds_around3000  \\\n",
              "22968              2419.0               0.0            NaN               0.0   \n",
              "19543             15134.0               0.0            NaN               1.0   \n",
              "17390                 NaN               NaN            NaN               NaN   \n",
              "23316             27850.0               1.0          966.0               1.0   \n",
              "17791                 NaN               NaN            NaN               NaN   \n",
              "9093               6941.0               2.0          365.0               3.0   \n",
              "23138             23816.0               0.0            NaN               2.0   \n",
              "19758                 NaN               NaN            NaN               NaN   \n",
              "12887             14546.0               0.0            NaN               0.0   \n",
              "20095             35152.0               1.0          531.0               2.0   \n",
              "\n",
              "       ponds_nearest  days_exposition  \n",
              "22968            NaN            210.0  \n",
              "19543          433.0              NaN  \n",
              "17390            NaN            525.0  \n",
              "23316          450.0            232.0  \n",
              "17791            NaN            457.0  \n",
              "9093           215.0              NaN  \n",
              "23138          351.0             49.0  \n",
              "19758            NaN            152.0  \n",
              "12887            NaN              4.0  \n",
              "20095          192.0            102.0  \n",
              "\n",
              "[10 rows x 22 columns]"
            ],
            "text/html": [
              "\n",
              "  <div id=\"df-2ff4a0fc-aaf7-445e-b608-7bef369d53f4\">\n",
              "    <div class=\"colab-df-container\">\n",
              "      <div>\n",
              "<style scoped>\n",
              "    .dataframe tbody tr th:only-of-type {\n",
              "        vertical-align: middle;\n",
              "    }\n",
              "\n",
              "    .dataframe tbody tr th {\n",
              "        vertical-align: top;\n",
              "    }\n",
              "\n",
              "    .dataframe thead th {\n",
              "        text-align: right;\n",
              "    }\n",
              "</style>\n",
              "<table border=\"1\" class=\"dataframe\">\n",
              "  <thead>\n",
              "    <tr style=\"text-align: right;\">\n",
              "      <th></th>\n",
              "      <th>total_images</th>\n",
              "      <th>last_price</th>\n",
              "      <th>total_area</th>\n",
              "      <th>first_day_exposition</th>\n",
              "      <th>rooms</th>\n",
              "      <th>ceiling_height</th>\n",
              "      <th>floors_total</th>\n",
              "      <th>living_area</th>\n",
              "      <th>floor</th>\n",
              "      <th>is_apartment</th>\n",
              "      <th>...</th>\n",
              "      <th>kitchen_area</th>\n",
              "      <th>balcony</th>\n",
              "      <th>locality_name</th>\n",
              "      <th>airports_nearest</th>\n",
              "      <th>cityCenters_nearest</th>\n",
              "      <th>parks_around3000</th>\n",
              "      <th>parks_nearest</th>\n",
              "      <th>ponds_around3000</th>\n",
              "      <th>ponds_nearest</th>\n",
              "      <th>days_exposition</th>\n",
              "    </tr>\n",
              "  </thead>\n",
              "  <tbody>\n",
              "    <tr>\n",
              "      <th>22968</th>\n",
              "      <td>7</td>\n",
              "      <td>6700000.0</td>\n",
              "      <td>54.00</td>\n",
              "      <td>2017-11-08T00:00:00</td>\n",
              "      <td>3</td>\n",
              "      <td>NaN</td>\n",
              "      <td>3.0</td>\n",
              "      <td>36.00</td>\n",
              "      <td>2</td>\n",
              "      <td>NaN</td>\n",
              "      <td>...</td>\n",
              "      <td>10.00</td>\n",
              "      <td>NaN</td>\n",
              "      <td>Санкт-Петербург</td>\n",
              "      <td>22878.0</td>\n",
              "      <td>2419.0</td>\n",
              "      <td>0.0</td>\n",
              "      <td>NaN</td>\n",
              "      <td>0.0</td>\n",
              "      <td>NaN</td>\n",
              "      <td>210.0</td>\n",
              "    </tr>\n",
              "    <tr>\n",
              "      <th>19543</th>\n",
              "      <td>11</td>\n",
              "      <td>4550000.0</td>\n",
              "      <td>50.00</td>\n",
              "      <td>2015-12-15T00:00:00</td>\n",
              "      <td>2</td>\n",
              "      <td>NaN</td>\n",
              "      <td>9.0</td>\n",
              "      <td>30.00</td>\n",
              "      <td>7</td>\n",
              "      <td>NaN</td>\n",
              "      <td>...</td>\n",
              "      <td>7.00</td>\n",
              "      <td>NaN</td>\n",
              "      <td>Санкт-Петербург</td>\n",
              "      <td>14358.0</td>\n",
              "      <td>15134.0</td>\n",
              "      <td>0.0</td>\n",
              "      <td>NaN</td>\n",
              "      <td>1.0</td>\n",
              "      <td>433.0</td>\n",
              "      <td>NaN</td>\n",
              "    </tr>\n",
              "    <tr>\n",
              "      <th>17390</th>\n",
              "      <td>20</td>\n",
              "      <td>2600000.0</td>\n",
              "      <td>70.00</td>\n",
              "      <td>2017-11-23T00:00:00</td>\n",
              "      <td>3</td>\n",
              "      <td>2.6</td>\n",
              "      <td>5.0</td>\n",
              "      <td>44.00</td>\n",
              "      <td>4</td>\n",
              "      <td>NaN</td>\n",
              "      <td>...</td>\n",
              "      <td>8.30</td>\n",
              "      <td>2.0</td>\n",
              "      <td>деревня Бегуницы</td>\n",
              "      <td>NaN</td>\n",
              "      <td>NaN</td>\n",
              "      <td>NaN</td>\n",
              "      <td>NaN</td>\n",
              "      <td>NaN</td>\n",
              "      <td>NaN</td>\n",
              "      <td>525.0</td>\n",
              "    </tr>\n",
              "    <tr>\n",
              "      <th>23316</th>\n",
              "      <td>16</td>\n",
              "      <td>6300000.0</td>\n",
              "      <td>39.40</td>\n",
              "      <td>2016-05-16T00:00:00</td>\n",
              "      <td>1</td>\n",
              "      <td>3.1</td>\n",
              "      <td>5.0</td>\n",
              "      <td>16.00</td>\n",
              "      <td>2</td>\n",
              "      <td>False</td>\n",
              "      <td>...</td>\n",
              "      <td>11.40</td>\n",
              "      <td>1.0</td>\n",
              "      <td>Пушкин</td>\n",
              "      <td>15696.0</td>\n",
              "      <td>27850.0</td>\n",
              "      <td>1.0</td>\n",
              "      <td>966.0</td>\n",
              "      <td>1.0</td>\n",
              "      <td>450.0</td>\n",
              "      <td>232.0</td>\n",
              "    </tr>\n",
              "    <tr>\n",
              "      <th>17791</th>\n",
              "      <td>9</td>\n",
              "      <td>23999088.0</td>\n",
              "      <td>90.00</td>\n",
              "      <td>2017-02-16T00:00:00</td>\n",
              "      <td>2</td>\n",
              "      <td>3.1</td>\n",
              "      <td>8.0</td>\n",
              "      <td>35.90</td>\n",
              "      <td>5</td>\n",
              "      <td>NaN</td>\n",
              "      <td>...</td>\n",
              "      <td>20.00</td>\n",
              "      <td>2.0</td>\n",
              "      <td>Санкт-Петербург</td>\n",
              "      <td>NaN</td>\n",
              "      <td>NaN</td>\n",
              "      <td>NaN</td>\n",
              "      <td>NaN</td>\n",
              "      <td>NaN</td>\n",
              "      <td>NaN</td>\n",
              "      <td>457.0</td>\n",
              "    </tr>\n",
              "    <tr>\n",
              "      <th>9093</th>\n",
              "      <td>1</td>\n",
              "      <td>16359000.0</td>\n",
              "      <td>77.90</td>\n",
              "      <td>2019-04-01T00:00:00</td>\n",
              "      <td>1</td>\n",
              "      <td>3.0</td>\n",
              "      <td>11.0</td>\n",
              "      <td>40.40</td>\n",
              "      <td>4</td>\n",
              "      <td>False</td>\n",
              "      <td>...</td>\n",
              "      <td>11.80</td>\n",
              "      <td>NaN</td>\n",
              "      <td>Санкт-Петербург</td>\n",
              "      <td>28282.0</td>\n",
              "      <td>6941.0</td>\n",
              "      <td>2.0</td>\n",
              "      <td>365.0</td>\n",
              "      <td>3.0</td>\n",
              "      <td>215.0</td>\n",
              "      <td>NaN</td>\n",
              "    </tr>\n",
              "    <tr>\n",
              "      <th>23138</th>\n",
              "      <td>2</td>\n",
              "      <td>3930000.0</td>\n",
              "      <td>54.00</td>\n",
              "      <td>2018-03-03T00:00:00</td>\n",
              "      <td>2</td>\n",
              "      <td>NaN</td>\n",
              "      <td>19.0</td>\n",
              "      <td>30.00</td>\n",
              "      <td>9</td>\n",
              "      <td>NaN</td>\n",
              "      <td>...</td>\n",
              "      <td>10.00</td>\n",
              "      <td>1.0</td>\n",
              "      <td>Санкт-Петербург</td>\n",
              "      <td>22104.0</td>\n",
              "      <td>23816.0</td>\n",
              "      <td>0.0</td>\n",
              "      <td>NaN</td>\n",
              "      <td>2.0</td>\n",
              "      <td>351.0</td>\n",
              "      <td>49.0</td>\n",
              "    </tr>\n",
              "    <tr>\n",
              "      <th>19758</th>\n",
              "      <td>1</td>\n",
              "      <td>4078000.0</td>\n",
              "      <td>43.15</td>\n",
              "      <td>2016-02-11T00:00:00</td>\n",
              "      <td>1</td>\n",
              "      <td>2.7</td>\n",
              "      <td>14.0</td>\n",
              "      <td>15.34</td>\n",
              "      <td>6</td>\n",
              "      <td>NaN</td>\n",
              "      <td>...</td>\n",
              "      <td>19.28</td>\n",
              "      <td>0.0</td>\n",
              "      <td>деревня Кудрово</td>\n",
              "      <td>NaN</td>\n",
              "      <td>NaN</td>\n",
              "      <td>NaN</td>\n",
              "      <td>NaN</td>\n",
              "      <td>NaN</td>\n",
              "      <td>NaN</td>\n",
              "      <td>152.0</td>\n",
              "    </tr>\n",
              "    <tr>\n",
              "      <th>12887</th>\n",
              "      <td>5</td>\n",
              "      <td>3100000.0</td>\n",
              "      <td>30.00</td>\n",
              "      <td>2018-10-01T00:00:00</td>\n",
              "      <td>1</td>\n",
              "      <td>NaN</td>\n",
              "      <td>5.0</td>\n",
              "      <td>16.00</td>\n",
              "      <td>4</td>\n",
              "      <td>NaN</td>\n",
              "      <td>...</td>\n",
              "      <td>6.00</td>\n",
              "      <td>NaN</td>\n",
              "      <td>Санкт-Петербург</td>\n",
              "      <td>21816.0</td>\n",
              "      <td>14546.0</td>\n",
              "      <td>0.0</td>\n",
              "      <td>NaN</td>\n",
              "      <td>0.0</td>\n",
              "      <td>NaN</td>\n",
              "      <td>4.0</td>\n",
              "    </tr>\n",
              "    <tr>\n",
              "      <th>20095</th>\n",
              "      <td>7</td>\n",
              "      <td>2800000.0</td>\n",
              "      <td>31.60</td>\n",
              "      <td>2017-09-09T00:00:00</td>\n",
              "      <td>1</td>\n",
              "      <td>NaN</td>\n",
              "      <td>5.0</td>\n",
              "      <td>18.10</td>\n",
              "      <td>2</td>\n",
              "      <td>NaN</td>\n",
              "      <td>...</td>\n",
              "      <td>5.10</td>\n",
              "      <td>NaN</td>\n",
              "      <td>Сестрорецк</td>\n",
              "      <td>58223.0</td>\n",
              "      <td>35152.0</td>\n",
              "      <td>1.0</td>\n",
              "      <td>531.0</td>\n",
              "      <td>2.0</td>\n",
              "      <td>192.0</td>\n",
              "      <td>102.0</td>\n",
              "    </tr>\n",
              "  </tbody>\n",
              "</table>\n",
              "<p>10 rows × 22 columns</p>\n",
              "</div>\n",
              "      <button class=\"colab-df-convert\" onclick=\"convertToInteractive('df-2ff4a0fc-aaf7-445e-b608-7bef369d53f4')\"\n",
              "              title=\"Convert this dataframe to an interactive table.\"\n",
              "              style=\"display:none;\">\n",
              "        \n",
              "  <svg xmlns=\"http://www.w3.org/2000/svg\" height=\"24px\"viewBox=\"0 0 24 24\"\n",
              "       width=\"24px\">\n",
              "    <path d=\"M0 0h24v24H0V0z\" fill=\"none\"/>\n",
              "    <path d=\"M18.56 5.44l.94 2.06.94-2.06 2.06-.94-2.06-.94-.94-2.06-.94 2.06-2.06.94zm-11 1L8.5 8.5l.94-2.06 2.06-.94-2.06-.94L8.5 2.5l-.94 2.06-2.06.94zm10 10l.94 2.06.94-2.06 2.06-.94-2.06-.94-.94-2.06-.94 2.06-2.06.94z\"/><path d=\"M17.41 7.96l-1.37-1.37c-.4-.4-.92-.59-1.43-.59-.52 0-1.04.2-1.43.59L10.3 9.45l-7.72 7.72c-.78.78-.78 2.05 0 2.83L4 21.41c.39.39.9.59 1.41.59.51 0 1.02-.2 1.41-.59l7.78-7.78 2.81-2.81c.8-.78.8-2.07 0-2.86zM5.41 20L4 18.59l7.72-7.72 1.47 1.35L5.41 20z\"/>\n",
              "  </svg>\n",
              "      </button>\n",
              "      \n",
              "  <style>\n",
              "    .colab-df-container {\n",
              "      display:flex;\n",
              "      flex-wrap:wrap;\n",
              "      gap: 12px;\n",
              "    }\n",
              "\n",
              "    .colab-df-convert {\n",
              "      background-color: #E8F0FE;\n",
              "      border: none;\n",
              "      border-radius: 50%;\n",
              "      cursor: pointer;\n",
              "      display: none;\n",
              "      fill: #1967D2;\n",
              "      height: 32px;\n",
              "      padding: 0 0 0 0;\n",
              "      width: 32px;\n",
              "    }\n",
              "\n",
              "    .colab-df-convert:hover {\n",
              "      background-color: #E2EBFA;\n",
              "      box-shadow: 0px 1px 2px rgba(60, 64, 67, 0.3), 0px 1px 3px 1px rgba(60, 64, 67, 0.15);\n",
              "      fill: #174EA6;\n",
              "    }\n",
              "\n",
              "    [theme=dark] .colab-df-convert {\n",
              "      background-color: #3B4455;\n",
              "      fill: #D2E3FC;\n",
              "    }\n",
              "\n",
              "    [theme=dark] .colab-df-convert:hover {\n",
              "      background-color: #434B5C;\n",
              "      box-shadow: 0px 1px 3px 1px rgba(0, 0, 0, 0.15);\n",
              "      filter: drop-shadow(0px 1px 2px rgba(0, 0, 0, 0.3));\n",
              "      fill: #FFFFFF;\n",
              "    }\n",
              "  </style>\n",
              "\n",
              "      <script>\n",
              "        const buttonEl =\n",
              "          document.querySelector('#df-2ff4a0fc-aaf7-445e-b608-7bef369d53f4 button.colab-df-convert');\n",
              "        buttonEl.style.display =\n",
              "          google.colab.kernel.accessAllowed ? 'block' : 'none';\n",
              "\n",
              "        async function convertToInteractive(key) {\n",
              "          const element = document.querySelector('#df-2ff4a0fc-aaf7-445e-b608-7bef369d53f4');\n",
              "          const dataTable =\n",
              "            await google.colab.kernel.invokeFunction('convertToInteractive',\n",
              "                                                     [key], {});\n",
              "          if (!dataTable) return;\n",
              "\n",
              "          const docLinkHtml = 'Like what you see? Visit the ' +\n",
              "            '<a target=\"_blank\" href=https://colab.research.google.com/notebooks/data_table.ipynb>data table notebook</a>'\n",
              "            + ' to learn more about interactive tables.';\n",
              "          element.innerHTML = '';\n",
              "          dataTable['output_type'] = 'display_data';\n",
              "          await google.colab.output.renderOutput(dataTable, element);\n",
              "          const docLink = document.createElement('div');\n",
              "          docLink.innerHTML = docLinkHtml;\n",
              "          element.appendChild(docLink);\n",
              "        }\n",
              "      </script>\n",
              "    </div>\n",
              "  </div>\n",
              "  "
            ]
          },
          "metadata": {},
          "execution_count": 10
        }
      ],
      "source": [
        "import pandas as pd\n",
        "\n",
        "from google.colab import data_table\n",
        "\n",
        "data_table.enable_dataframe_formatter()\n",
        "\n",
        "try:\n",
        "  df = pd.read_csv('drive/MyDrive/datasets/real_estate_data.csv', sep='\\t')\n",
        "except:\n",
        "  df = pd.read_csv('https://code.s3.yandex.net/datasets/real_estate_data.csv', sep='\\t')\n",
        "\n",
        "df.sample(10)"
      ]
    },
    {
      "cell_type": "code",
      "source": [
        "print(df.shape)\n",
        "\n",
        "print(df.columns)"
      ],
      "metadata": {
        "colab": {
          "base_uri": "https://localhost:8080/"
        },
        "id": "1xQwX8-gSeU3",
        "outputId": "31683e04-cd35-4244-9ee2-c3fe01f49968"
      },
      "execution_count": 11,
      "outputs": [
        {
          "output_type": "stream",
          "name": "stdout",
          "text": [
            "(23699, 22)\n",
            "Index(['total_images', 'last_price', 'total_area', 'first_day_exposition',\n",
            "       'rooms', 'ceiling_height', 'floors_total', 'living_area', 'floor',\n",
            "       'is_apartment', 'studio', 'open_plan', 'kitchen_area', 'balcony',\n",
            "       'locality_name', 'airports_nearest', 'cityCenters_nearest',\n",
            "       'parks_around3000', 'parks_nearest', 'ponds_around3000',\n",
            "       'ponds_nearest', 'days_exposition'],\n",
            "      dtype='object')\n"
          ]
        }
      ]
    },
    {
      "cell_type": "code",
      "source": [
        "print(df.info())"
      ],
      "metadata": {
        "colab": {
          "base_uri": "https://localhost:8080/"
        },
        "id": "QPQ0l3yiSkDv",
        "outputId": "73a014a0-7c42-49e3-a0e3-497631e6a96a"
      },
      "execution_count": 3,
      "outputs": [
        {
          "output_type": "stream",
          "name": "stdout",
          "text": [
            "<class 'pandas.core.frame.DataFrame'>\n",
            "RangeIndex: 23699 entries, 0 to 23698\n",
            "Data columns (total 22 columns):\n",
            " #   Column                Non-Null Count  Dtype  \n",
            "---  ------                --------------  -----  \n",
            " 0   total_images          23699 non-null  int64  \n",
            " 1   last_price            23699 non-null  float64\n",
            " 2   total_area            23699 non-null  float64\n",
            " 3   first_day_exposition  23699 non-null  object \n",
            " 4   rooms                 23699 non-null  int64  \n",
            " 5   ceiling_height        14504 non-null  float64\n",
            " 6   floors_total          23613 non-null  float64\n",
            " 7   living_area           21796 non-null  float64\n",
            " 8   floor                 23699 non-null  int64  \n",
            " 9   is_apartment          2775 non-null   object \n",
            " 10  studio                23699 non-null  bool   \n",
            " 11  open_plan             23699 non-null  bool   \n",
            " 12  kitchen_area          21421 non-null  float64\n",
            " 13  balcony               12180 non-null  float64\n",
            " 14  locality_name         23650 non-null  object \n",
            " 15  airports_nearest      18157 non-null  float64\n",
            " 16  cityCenters_nearest   18180 non-null  float64\n",
            " 17  parks_around3000      18181 non-null  float64\n",
            " 18  parks_nearest         8079 non-null   float64\n",
            " 19  ponds_around3000      18181 non-null  float64\n",
            " 20  ponds_nearest         9110 non-null   float64\n",
            " 21  days_exposition       20518 non-null  float64\n",
            "dtypes: bool(2), float64(14), int64(3), object(3)\n",
            "memory usage: 3.7+ MB\n",
            "None\n"
          ]
        }
      ]
    },
    {
      "cell_type": "markdown",
      "source": [
        "## Вывод\n",
        "Файл с данным содержит 22 столбца (2 булевых, 3 целочисленных, 14 столбцов с плавающей точкой и 3 столбца с объектами) и 23699 записей.\n",
        "\n",
        "В 14 из 22 столбцов есть пропущенные значения. Нужно понять какие данные пропущены случайно, какие записаны некорректно и какие пропуски можно игнорировать.\n",
        "\n",
        "Названия столбцов и их порядок записан не лучшем образом. Их лучше переопределить.\n",
        "\n",
        "В некоторых столбцах, например floors_total и balcony имеют число с плавающей точнок, а должны быть целочисленными. Проверим это.\n",
        "\n",
        "\n"
      ],
      "metadata": {
        "id": "tEnqWFY6lFrh"
      }
    },
    {
      "cell_type": "markdown",
      "source": [
        "# Обработка данных"
      ],
      "metadata": {
        "id": "JboVwf5Ev_w4"
      }
    },
    {
      "cell_type": "code",
      "source": [
        "df['total_area'].describe()\n",
        "df['total_area'].hist(range=(0,200))\n"
      ],
      "metadata": {
        "colab": {
          "base_uri": "https://localhost:8080/",
          "height": 283
        },
        "id": "kl8X2S7BjJ4N",
        "outputId": "5cb3ccf2-925d-4df1-b252-63d82c38cd40"
      },
      "execution_count": 4,
      "outputs": [
        {
          "output_type": "execute_result",
          "data": {
            "text/plain": [
              "<matplotlib.axes._subplots.AxesSubplot at 0x7f46b5b72590>"
            ]
          },
          "metadata": {},
          "execution_count": 4
        },
        {
          "output_type": "display_data",
          "data": {
            "text/plain": [
              "<Figure size 432x288 with 1 Axes>"
            ],
            "image/png": "[encoded data removed]"
          },
          "metadata": {
            "needs_background": "light"
          }
        }
      ]
    },
    {
      "cell_type": "code",
      "source": [
        "df['rooms'].hist(range=(1,5))"
      ],
      "metadata": {
        "colab": {
          "base_uri": "https://localhost:8080/",
          "height": 283
        },
        "id": "iiwJBFEprFoJ",
        "outputId": "9127f2e4-6d04-4308-dac0-abf433cf7336"
      },
      "execution_count": 5,
      "outputs": [
        {
          "output_type": "execute_result",
          "data": {
            "text/plain": [
              "<matplotlib.axes._subplots.AxesSubplot at 0x7f46b5a75290>"
            ]
          },
          "metadata": {},
          "execution_count": 5
        },
        {
          "output_type": "display_data",
          "data": {
            "text/plain": [
              "<Figure size 432x288 with 1 Axes>"
            ],
            "image/png": "[encoded data removed]"
          },
          "metadata": {
            "needs_background": "light"
          }
        }
      ]
    },
    {
      "cell_type": "code",
      "source": [
        "df['living_area'].hist(range=(0,150))"
      ],
      "metadata": {
        "colab": {
          "base_uri": "https://localhost:8080/",
          "height": 283
        },
        "id": "XLPaifiCrXSm",
        "outputId": "03a9ca0d-2910-4e59-b8f6-77308412ea3a"
      },
      "execution_count": 6,
      "outputs": [
        {
          "output_type": "execute_result",
          "data": {
            "text/plain": [
              "<matplotlib.axes._subplots.AxesSubplot at 0x7f46b55db850>"
            ]
          },
          "metadata": {},
          "execution_count": 6
        },
        {
          "output_type": "display_data",
          "data": {
            "text/plain": [
              "<Figure size 432x288 with 1 Axes>"
            ],
            "image/png": "[encoded data removed]"
          },
          "metadata": {
            "needs_background": "light"
          }
        }
      ]
    },
    {
      "cell_type": "markdown",
      "source": [
        "## Работа с пропусками\n",
        "В таблице присутствуют пропуски. Необходимо определить насколько они критичные."
      ],
      "metadata": {
        "id": "8gA6EmJWaE6v"
      }
    },
    {
      "cell_type": "code",
      "source": [
        "df.isnull().sum().sort_values()"
      ],
      "metadata": {
        "colab": {
          "base_uri": "https://localhost:8080/"
        },
        "id": "H3wPAV3pb5j4",
        "outputId": "d3e01ac2-b3e5-4d6d-fda9-8a63e8c34466"
      },
      "execution_count": 7,
      "outputs": [
        {
          "output_type": "execute_result",
          "data": {
            "text/plain": [
              "total_images                0\n",
              "open_plan                   0\n",
              "floor                       0\n",
              "rooms                       0\n",
              "studio                      0\n",
              "total_area                  0\n",
              "last_price                  0\n",
              "first_day_exposition        0\n",
              "locality_name              49\n",
              "floors_total               86\n",
              "living_area              1903\n",
              "kitchen_area             2278\n",
              "days_exposition          3181\n",
              "ponds_around3000         5518\n",
              "parks_around3000         5518\n",
              "cityCenters_nearest      5519\n",
              "airports_nearest         5542\n",
              "ceiling_height           9195\n",
              "balcony                 11519\n",
              "ponds_nearest           14589\n",
              "parks_nearest           15620\n",
              "is_apartment            20924\n",
              "dtype: int64"
            ]
          },
          "metadata": {},
          "execution_count": 7
        }
      ]
    },
    {
      "cell_type": "code",
      "source": [
        "df.isnull().sum().sort_values()/df.shape[0]*100"
      ],
      "metadata": {
        "colab": {
          "base_uri": "https://localhost:8080/"
        },
        "id": "anXAvIqRcQy2",
        "outputId": "612cff74-23ab-4d0a-c788-a5c20a6d1555"
      },
      "execution_count": 8,
      "outputs": [
        {
          "output_type": "execute_result",
          "data": {
            "text/plain": [
              "total_images             0.000000\n",
              "open_plan                0.000000\n",
              "floor                    0.000000\n",
              "rooms                    0.000000\n",
              "studio                   0.000000\n",
              "total_area               0.000000\n",
              "last_price               0.000000\n",
              "first_day_exposition     0.000000\n",
              "locality_name            0.206760\n",
              "floors_total             0.362885\n",
              "living_area              8.029875\n",
              "kitchen_area             9.612220\n",
              "days_exposition         13.422507\n",
              "ponds_around3000        23.283683\n",
              "parks_around3000        23.283683\n",
              "cityCenters_nearest     23.287902\n",
              "airports_nearest        23.384953\n",
              "ceiling_height          38.799105\n",
              "balcony                 48.605426\n",
              "ponds_nearest           61.559559\n",
              "parks_nearest           65.909954\n",
              "is_apartment            88.290645\n",
              "dtype: float64"
            ]
          },
          "metadata": {},
          "execution_count": 8
        }
      ]
    },
    {
      "cell_type": "markdown",
      "source": [
        "Все основные данные заполнены полностью."
      ],
      "metadata": {
        "id": "qsLyXPOJetgw"
      }
    },
    {
      "cell_type": "code",
      "source": [
        "df['studio'] == True"
      ],
      "metadata": {
        "colab": {
          "base_uri": "https://localhost:8080/"
        },
        "id": "LUmWiyjOfbJA",
        "outputId": "ddbc6b1c-2135-4525-cd55-2e2ba8968f2e"
      },
      "execution_count": 9,
      "outputs": [
        {
          "output_type": "execute_result",
          "data": {
            "text/plain": [
              "0        False\n",
              "1        False\n",
              "2        False\n",
              "3        False\n",
              "4        False\n",
              "         ...  \n",
              "23694    False\n",
              "23695    False\n",
              "23696    False\n",
              "23697    False\n",
              "23698    False\n",
              "Name: studio, Length: 23699, dtype: bool"
            ]
          },
          "metadata": {},
          "execution_count": 9
        }
      ]
    }
  ]
}