{
  "nbformat": 4,
  "nbformat_minor": 0,
  "metadata": {
    "colab": {
      "provenance": [],
      "toc_visible": true,
      "mount_file_id": "1jMu5csRhYbTwBKQQ_ZlZM-Xp7ROChSXL",
      "authorship_tag": "ABX9TyN/SCkPhRM8SrX9G2QatNSi"
    },
    "kernelspec": {
      "name": "python3",
      "display_name": "Python 3"
    },
    "language_info": {
      "name": "python"
    }
  },
  "cells": [
    {
      "cell_type": "markdown",
      "source": [
        "# Шаг 1. Обзор данных.\n",
        "Перед нами данные сервиса Яндекс.Недвижимость — архив объявлений о продаже квартир в Санкт-Петербурге и соседних населённых пунктах за несколько лет. Нужно определить рыночную стоимость объектов недвижимости. В таблице указаны стандартные данные пользователей как цена квартиры, площадь, этаж, цена, так и данные сгенерированные автоматически. Рассмотрим эти данные."
      ],
      "metadata": {
        "id": "fbewtqzvk3CC"
      }
    },
    {
      "cell_type": "code",
      "execution_count": 36,
      "metadata": {
        "colab": {
          "base_uri": "https://localhost:8080/",
          "height": 596
        },
        "id": "6EEyJnVebeQA",
        "outputId": "e076e557-6a61-484b-a36b-7da1cf5e2e6d"
      },
      "outputs": [
        {
          "output_type": "stream",
          "name": "stdout",
          "text": [
            "Warning: Total number of columns (22) exceeds max_columns (20). Falling back to pandas display.\n"
          ]
        },
        {
          "output_type": "execute_result",
          "data": {
            "text/plain": [
              "       total_images  last_price  total_area first_day_exposition  rooms  \\\n",
              "12151            18   4990000.0        67.0  2018-04-04T00:00:00      2   \n",
              "23356             8   4600000.0        61.0  2018-04-03T00:00:00      3   \n",
              "4809              2   4100000.0        53.0  2019-01-10T00:00:00      2   \n",
              "10625            20   3549000.0        32.8  2017-11-11T00:00:00      1   \n",
              "15406             3   4433484.0        60.7  2017-03-21T00:00:00      2   \n",
              "15541             0   1570000.0        50.0  2017-04-25T00:00:00      2   \n",
              "13076             9   1200000.0        30.0  2017-12-15T00:00:00      1   \n",
              "19210             7   7150000.0        56.6  2018-04-04T00:00:00      2   \n",
              "8461              9   7850000.0        74.3  2015-04-10T00:00:00      3   \n",
              "9775              8   8000000.0        71.3  2016-06-04T00:00:00      2   \n",
              "\n",
              "       ceiling_height  floors_total  living_area  floor is_apartment  ...  \\\n",
              "12151             NaN           6.0         30.0      3          NaN  ...   \n",
              "23356            2.60           9.0         43.5      9          NaN  ...   \n",
              "4809             2.50           5.0         28.0      2          NaN  ...   \n",
              "10625            2.60          20.0         14.3     10          NaN  ...   \n",
              "15406            2.75          24.0         32.0     17          NaN  ...   \n",
              "15541            2.95           2.0         32.9      2          NaN  ...   \n",
              "13076            2.60           4.0         24.0      4          NaN  ...   \n",
              "19210            3.00           5.0         37.0      4          NaN  ...   \n",
              "8461              NaN          11.0         42.3      6          NaN  ...   \n",
              "9775             2.95           7.0         46.1      4          NaN  ...   \n",
              "\n",
              "       kitchen_area  balcony            locality_name  airports_nearest  \\\n",
              "12151          20.0      NaN               Всеволожск               NaN   \n",
              "23356           6.5      1.0          Санкт-Петербург           13744.0   \n",
              "4809            8.0      2.0  деревня Новое Девяткино               NaN   \n",
              "10625           8.5      2.0          Санкт-Петербург           39141.0   \n",
              "15406          11.9      NaN          Санкт-Петербург           22212.0   \n",
              "15541           7.0      1.0               Всеволожск               NaN   \n",
              "13076           6.0      NaN                   Волхов               NaN   \n",
              "19210           8.0      1.0          Санкт-Петербург           11027.0   \n",
              "8461           11.6      0.0          Санкт-Петербург           31118.0   \n",
              "9775            8.0      0.0          Санкт-Петербург           10708.0   \n",
              "\n",
              "      cityCenters_nearest  parks_around3000  parks_nearest  ponds_around3000  \\\n",
              "12151                 NaN               NaN            NaN               NaN   \n",
              "23356             14822.0               1.0          425.0               0.0   \n",
              "4809                  NaN               NaN            NaN               NaN   \n",
              "10625             15985.0               0.0            NaN               0.0   \n",
              "15406             17399.0               0.0            NaN               1.0   \n",
              "15541                 NaN               NaN            NaN               NaN   \n",
              "13076                 NaN               NaN            NaN               NaN   \n",
              "19210             10659.0               2.0          500.0               0.0   \n",
              "8461               7257.0               1.0          241.0               1.0   \n",
              "9775              10057.0               2.0           63.0               0.0   \n",
              "\n",
              "       ponds_nearest  days_exposition  \n",
              "12151            NaN            149.0  \n",
              "23356            NaN             51.0  \n",
              "4809             NaN             45.0  \n",
              "10625            NaN            192.0  \n",
              "15406          233.0            255.0  \n",
              "15541            NaN            288.0  \n",
              "13076            NaN            188.0  \n",
              "19210            NaN             24.0  \n",
              "8461           230.0            702.0  \n",
              "9775             NaN             26.0  \n",
              "\n",
              "[10 rows x 22 columns]"
            ],
            "text/html": [
              "\n",
              "  <div id=\"df-dfdecb3e-172e-4e15-baf3-78e1c83ac864\">\n",
              "    <div class=\"colab-df-container\">\n",
              "      <div>\n",
              "<style scoped>\n",
              "    .dataframe tbody tr th:only-of-type {\n",
              "        vertical-align: middle;\n",
              "    }\n",
              "\n",
              "    .dataframe tbody tr th {\n",
              "        vertical-align: top;\n",
              "    }\n",
              "\n",
              "    .dataframe thead th {\n",
              "        text-align: right;\n",
              "    }\n",
              "</style>\n",
              "<table border=\"1\" class=\"dataframe\">\n",
              "  <thead>\n",
              "    <tr style=\"text-align: right;\">\n",
              "      <th></th>\n",
              "      <th>total_images</th>\n",
              "      <th>last_price</th>\n",
              "      <th>total_area</th>\n",
              "      <th>first_day_exposition</th>\n",
              "      <th>rooms</th>\n",
              "      <th>ceiling_height</th>\n",
              "      <th>floors_total</th>\n",
              "      <th>living_area</th>\n",
              "      <th>floor</th>\n",
              "      <th>is_apartment</th>\n",
              "      <th>...</th>\n",
              "      <th>kitchen_area</th>\n",
              "      <th>balcony</th>\n",
              "      <th>locality_name</th>\n",
              "      <th>airports_nearest</th>\n",
              "      <th>cityCenters_nearest</th>\n",
              "      <th>parks_around3000</th>\n",
              "      <th>parks_nearest</th>\n",
              "      <th>ponds_around3000</th>\n",
              "      <th>ponds_nearest</th>\n",
              "      <th>days_exposition</th>\n",
              "    </tr>\n",
              "  </thead>\n",
              "  <tbody>\n",
              "    <tr>\n",
              "      <th>12151</th>\n",
              "      <td>18</td>\n",
              "      <td>4990000.0</td>\n",
              "      <td>67.0</td>\n",
              "      <td>2018-04-04T00:00:00</td>\n",
              "      <td>2</td>\n",
              "      <td>NaN</td>\n",
              "      <td>6.0</td>\n",
              "      <td>30.0</td>\n",
              "      <td>3</td>\n",
              "      <td>NaN</td>\n",
              "      <td>...</td>\n",
              "      <td>20.0</td>\n",
              "      <td>NaN</td>\n",
              "      <td>Всеволожск</td>\n",
              "      <td>NaN</td>\n",
              "      <td>NaN</td>\n",
              "      <td>NaN</td>\n",
              "      <td>NaN</td>\n",
              "      <td>NaN</td>\n",
              "      <td>NaN</td>\n",
              "      <td>149.0</td>\n",
              "    </tr>\n",
              "    <tr>\n",
              "      <th>23356</th>\n",
              "      <td>8</td>\n",
              "      <td>4600000.0</td>\n",
              "      <td>61.0</td>\n",
              "      <td>2018-04-03T00:00:00</td>\n",
              "      <td>3</td>\n",
              "      <td>2.60</td>\n",
              "      <td>9.0</td>\n",
              "      <td>43.5</td>\n",
              "      <td>9</td>\n",
              "      <td>NaN</td>\n",
              "      <td>...</td>\n",
              "      <td>6.5</td>\n",
              "      <td>1.0</td>\n",
              "      <td>Санкт-Петербург</td>\n",
              "      <td>13744.0</td>\n",
              "      <td>14822.0</td>\n",
              "      <td>1.0</td>\n",
              "      <td>425.0</td>\n",
              "      <td>0.0</td>\n",
              "      <td>NaN</td>\n",
              "      <td>51.0</td>\n",
              "    </tr>\n",
              "    <tr>\n",
              "      <th>4809</th>\n",
              "      <td>2</td>\n",
              "      <td>4100000.0</td>\n",
              "      <td>53.0</td>\n",
              "      <td>2019-01-10T00:00:00</td>\n",
              "      <td>2</td>\n",
              "      <td>2.50</td>\n",
              "      <td>5.0</td>\n",
              "      <td>28.0</td>\n",
              "      <td>2</td>\n",
              "      <td>NaN</td>\n",
              "      <td>...</td>\n",
              "      <td>8.0</td>\n",
              "      <td>2.0</td>\n",
              "      <td>деревня Новое Девяткино</td>\n",
              "      <td>NaN</td>\n",
              "      <td>NaN</td>\n",
              "      <td>NaN</td>\n",
              "      <td>NaN</td>\n",
              "      <td>NaN</td>\n",
              "      <td>NaN</td>\n",
              "      <td>45.0</td>\n",
              "    </tr>\n",
              "    <tr>\n",
              "      <th>10625</th>\n",
              "      <td>20</td>\n",
              "      <td>3549000.0</td>\n",
              "      <td>32.8</td>\n",
              "      <td>2017-11-11T00:00:00</td>\n",
              "      <td>1</td>\n",
              "      <td>2.60</td>\n",
              "      <td>20.0</td>\n",
              "      <td>14.3</td>\n",
              "      <td>10</td>\n",
              "      <td>NaN</td>\n",
              "      <td>...</td>\n",
              "      <td>8.5</td>\n",
              "      <td>2.0</td>\n",
              "      <td>Санкт-Петербург</td>\n",
              "      <td>39141.0</td>\n",
              "      <td>15985.0</td>\n",
              "      <td>0.0</td>\n",
              "      <td>NaN</td>\n",
              "      <td>0.0</td>\n",
              "      <td>NaN</td>\n",
              "      <td>192.0</td>\n",
              "    </tr>\n",
              "    <tr>\n",
              "      <th>15406</th>\n",
              "      <td>3</td>\n",
              "      <td>4433484.0</td>\n",
              "      <td>60.7</td>\n",
              "      <td>2017-03-21T00:00:00</td>\n",
              "      <td>2</td>\n",
              "      <td>2.75</td>\n",
              "      <td>24.0</td>\n",
              "      <td>32.0</td>\n",
              "      <td>17</td>\n",
              "      <td>NaN</td>\n",
              "      <td>...</td>\n",
              "      <td>11.9</td>\n",
              "      <td>NaN</td>\n",
              "      <td>Санкт-Петербург</td>\n",
              "      <td>22212.0</td>\n",
              "      <td>17399.0</td>\n",
              "      <td>0.0</td>\n",
              "      <td>NaN</td>\n",
              "      <td>1.0</td>\n",
              "      <td>233.0</td>\n",
              "      <td>255.0</td>\n",
              "    </tr>\n",
              "    <tr>\n",
              "      <th>15541</th>\n",
              "      <td>0</td>\n",
              "      <td>1570000.0</td>\n",
              "      <td>50.0</td>\n",
              "      <td>2017-04-25T00:00:00</td>\n",
              "      <td>2</td>\n",
              "      <td>2.95</td>\n",
              "      <td>2.0</td>\n",
              "      <td>32.9</td>\n",
              "      <td>2</td>\n",
              "      <td>NaN</td>\n",
              "      <td>...</td>\n",
              "      <td>7.0</td>\n",
              "      <td>1.0</td>\n",
              "      <td>Всеволожск</td>\n",
              "      <td>NaN</td>\n",
              "      <td>NaN</td>\n",
              "      <td>NaN</td>\n",
              "      <td>NaN</td>\n",
              "      <td>NaN</td>\n",
              "      <td>NaN</td>\n",
              "      <td>288.0</td>\n",
              "    </tr>\n",
              "    <tr>\n",
              "      <th>13076</th>\n",
              "      <td>9</td>\n",
              "      <td>1200000.0</td>\n",
              "      <td>30.0</td>\n",
              "      <td>2017-12-15T00:00:00</td>\n",
              "      <td>1</td>\n",
              "      <td>2.60</td>\n",
              "      <td>4.0</td>\n",
              "      <td>24.0</td>\n",
              "      <td>4</td>\n",
              "      <td>NaN</td>\n",
              "      <td>...</td>\n",
              "      <td>6.0</td>\n",
              "      <td>NaN</td>\n",
              "      <td>Волхов</td>\n",
              "      <td>NaN</td>\n",
              "      <td>NaN</td>\n",
              "      <td>NaN</td>\n",
              "      <td>NaN</td>\n",
              "      <td>NaN</td>\n",
              "      <td>NaN</td>\n",
              "      <td>188.0</td>\n",
              "    </tr>\n",
              "    <tr>\n",
              "      <th>19210</th>\n",
              "      <td>7</td>\n",
              "      <td>7150000.0</td>\n",
              "      <td>56.6</td>\n",
              "      <td>2018-04-04T00:00:00</td>\n",
              "      <td>2</td>\n",
              "      <td>3.00</td>\n",
              "      <td>5.0</td>\n",
              "      <td>37.0</td>\n",
              "      <td>4</td>\n",
              "      <td>NaN</td>\n",
              "      <td>...</td>\n",
              "      <td>8.0</td>\n",
              "      <td>1.0</td>\n",
              "      <td>Санкт-Петербург</td>\n",
              "      <td>11027.0</td>\n",
              "      <td>10659.0</td>\n",
              "      <td>2.0</td>\n",
              "      <td>500.0</td>\n",
              "      <td>0.0</td>\n",
              "      <td>NaN</td>\n",
              "      <td>24.0</td>\n",
              "    </tr>\n",
              "    <tr>\n",
              "      <th>8461</th>\n",
              "      <td>9</td>\n",
              "      <td>7850000.0</td>\n",
              "      <td>74.3</td>\n",
              "      <td>2015-04-10T00:00:00</td>\n",
              "      <td>3</td>\n",
              "      <td>NaN</td>\n",
              "      <td>11.0</td>\n",
              "      <td>42.3</td>\n",
              "      <td>6</td>\n",
              "      <td>NaN</td>\n",
              "      <td>...</td>\n",
              "      <td>11.6</td>\n",
              "      <td>0.0</td>\n",
              "      <td>Санкт-Петербург</td>\n",
              "      <td>31118.0</td>\n",
              "      <td>7257.0</td>\n",
              "      <td>1.0</td>\n",
              "      <td>241.0</td>\n",
              "      <td>1.0</td>\n",
              "      <td>230.0</td>\n",
              "      <td>702.0</td>\n",
              "    </tr>\n",
              "    <tr>\n",
              "      <th>9775</th>\n",
              "      <td>8</td>\n",
              "      <td>8000000.0</td>\n",
              "      <td>71.3</td>\n",
              "      <td>2016-06-04T00:00:00</td>\n",
              "      <td>2</td>\n",
              "      <td>2.95</td>\n",
              "      <td>7.0</td>\n",
              "      <td>46.1</td>\n",
              "      <td>4</td>\n",
              "      <td>NaN</td>\n",
              "      <td>...</td>\n",
              "      <td>8.0</td>\n",
              "      <td>0.0</td>\n",
              "      <td>Санкт-Петербург</td>\n",
              "      <td>10708.0</td>\n",
              "      <td>10057.0</td>\n",
              "      <td>2.0</td>\n",
              "      <td>63.0</td>\n",
              "      <td>0.0</td>\n",
              "      <td>NaN</td>\n",
              "      <td>26.0</td>\n",
              "    </tr>\n",
              "  </tbody>\n",
              "</table>\n",
              "<p>10 rows × 22 columns</p>\n",
              "</div>\n",
              "      <button class=\"colab-df-convert\" onclick=\"convertToInteractive('df-dfdecb3e-172e-4e15-baf3-78e1c83ac864')\"\n",
              "              title=\"Convert this dataframe to an interactive table.\"\n",
              "              style=\"display:none;\">\n",
              "        \n",
              "  <svg xmlns=\"http://www.w3.org/2000/svg\" height=\"24px\"viewBox=\"0 0 24 24\"\n",
              "       width=\"24px\">\n",
              "    <path d=\"M0 0h24v24H0V0z\" fill=\"none\"/>\n",
              "    <path d=\"M18.56 5.44l.94 2.06.94-2.06 2.06-.94-2.06-.94-.94-2.06-.94 2.06-2.06.94zm-11 1L8.5 8.5l.94-2.06 2.06-.94-2.06-.94L8.5 2.5l-.94 2.06-2.06.94zm10 10l.94 2.06.94-2.06 2.06-.94-2.06-.94-.94-2.06-.94 2.06-2.06.94z\"/><path d=\"M17.41 7.96l-1.37-1.37c-.4-.4-.92-.59-1.43-.59-.52 0-1.04.2-1.43.59L10.3 9.45l-7.72 7.72c-.78.78-.78 2.05 0 2.83L4 21.41c.39.39.9.59 1.41.59.51 0 1.02-.2 1.41-.59l7.78-7.78 2.81-2.81c.8-.78.8-2.07 0-2.86zM5.41 20L4 18.59l7.72-7.72 1.47 1.35L5.41 20z\"/>\n",
              "  </svg>\n",
              "      </button>\n",
              "      \n",
              "  <style>\n",
              "    .colab-df-container {\n",
              "      display:flex;\n",
              "      flex-wrap:wrap;\n",
              "      gap: 12px;\n",
              "    }\n",
              "\n",
              "    .colab-df-convert {\n",
              "      background-color: #E8F0FE;\n",
              "      border: none;\n",
              "      border-radius: 50%;\n",
              "      cursor: pointer;\n",
              "      display: none;\n",
              "      fill: #1967D2;\n",
              "      height: 32px;\n",
              "      padding: 0 0 0 0;\n",
              "      width: 32px;\n",
              "    }\n",
              "\n",
              "    .colab-df-convert:hover {\n",
              "      background-color: #E2EBFA;\n",
              "      box-shadow: 0px 1px 2px rgba(60, 64, 67, 0.3), 0px 1px 3px 1px rgba(60, 64, 67, 0.15);\n",
              "      fill: #174EA6;\n",
              "    }\n",
              "\n",
              "    [theme=dark] .colab-df-convert {\n",
              "      background-color: #3B4455;\n",
              "      fill: #D2E3FC;\n",
              "    }\n",
              "\n",
              "    [theme=dark] .colab-df-convert:hover {\n",
              "      background-color: #434B5C;\n",
              "      box-shadow: 0px 1px 3px 1px rgba(0, 0, 0, 0.15);\n",
              "      filter: drop-shadow(0px 1px 2px rgba(0, 0, 0, 0.3));\n",
              "      fill: #FFFFFF;\n",
              "    }\n",
              "  </style>\n",
              "\n",
              "      <script>\n",
              "        const buttonEl =\n",
              "          document.querySelector('#df-dfdecb3e-172e-4e15-baf3-78e1c83ac864 button.colab-df-convert');\n",
              "        buttonEl.style.display =\n",
              "          google.colab.kernel.accessAllowed ? 'block' : 'none';\n",
              "\n",
              "        async function convertToInteractive(key) {\n",
              "          const element = document.querySelector('#df-dfdecb3e-172e-4e15-baf3-78e1c83ac864');\n",
              "          const dataTable =\n",
              "            await google.colab.kernel.invokeFunction('convertToInteractive',\n",
              "                                                     [key], {});\n",
              "          if (!dataTable) return;\n",
              "\n",
              "          const docLinkHtml = 'Like what you see? Visit the ' +\n",
              "            '<a target=\"_blank\" href=https://colab.research.google.com/notebooks/data_table.ipynb>data table notebook</a>'\n",
              "            + ' to learn more about interactive tables.';\n",
              "          element.innerHTML = '';\n",
              "          dataTable['output_type'] = 'display_data';\n",
              "          await google.colab.output.renderOutput(dataTable, element);\n",
              "          const docLink = document.createElement('div');\n",
              "          docLink.innerHTML = docLinkHtml;\n",
              "          element.appendChild(docLink);\n",
              "        }\n",
              "      </script>\n",
              "    </div>\n",
              "  </div>\n",
              "  "
            ]
          },
          "metadata": {},
          "execution_count": 36
        }
      ],
      "source": [
        "import pandas as pd\n",
        "%matplotlib inline\n",
        "import matplotlib.pyplot as plt\n",
        "import seaborn as sns\n",
        "\n",
        "from google.colab import data_table\n",
        "\n",
        "data_table.enable_dataframe_formatter()\n",
        "\n",
        "try:\n",
        "  df = pd.read_csv('drive/MyDrive/datasets/real_estate_data.csv', sep='\\t')\n",
        "except:\n",
        "  df = pd.read_csv('https://code.s3.yandex.net/datasets/real_estate_data.csv', sep='\\t')\n",
        "\n",
        "df.sample(10)"
      ]
    },
    {
      "cell_type": "code",
      "source": [
        "print(df.shape)\n",
        "\n",
        "print(df.columns)"
      ],
      "metadata": {
        "colab": {
          "base_uri": "https://localhost:8080/"
        },
        "id": "1xQwX8-gSeU3",
        "outputId": "29a286ef-674b-476a-f388-7c5678f14fd6"
      },
      "execution_count": 37,
      "outputs": [
        {
          "output_type": "stream",
          "name": "stdout",
          "text": [
            "(23699, 22)\n",
            "Index(['total_images', 'last_price', 'total_area', 'first_day_exposition',\n",
            "       'rooms', 'ceiling_height', 'floors_total', 'living_area', 'floor',\n",
            "       'is_apartment', 'studio', 'open_plan', 'kitchen_area', 'balcony',\n",
            "       'locality_name', 'airports_nearest', 'cityCenters_nearest',\n",
            "       'parks_around3000', 'parks_nearest', 'ponds_around3000',\n",
            "       'ponds_nearest', 'days_exposition'],\n",
            "      dtype='object')\n"
          ]
        }
      ]
    },
    {
      "cell_type": "code",
      "source": [
        "print(df.info())"
      ],
      "metadata": {
        "colab": {
          "base_uri": "https://localhost:8080/"
        },
        "id": "QPQ0l3yiSkDv",
        "outputId": "ce24c9af-f17a-477d-d681-87f0f99995d4"
      },
      "execution_count": 38,
      "outputs": [
        {
          "output_type": "stream",
          "name": "stdout",
          "text": [
            "<class 'pandas.core.frame.DataFrame'>\n",
            "RangeIndex: 23699 entries, 0 to 23698\n",
            "Data columns (total 22 columns):\n",
            " #   Column                Non-Null Count  Dtype  \n",
            "---  ------                --------------  -----  \n",
            " 0   total_images          23699 non-null  int64  \n",
            " 1   last_price            23699 non-null  float64\n",
            " 2   total_area            23699 non-null  float64\n",
            " 3   first_day_exposition  23699 non-null  object \n",
            " 4   rooms                 23699 non-null  int64  \n",
            " 5   ceiling_height        14504 non-null  float64\n",
            " 6   floors_total          23613 non-null  float64\n",
            " 7   living_area           21796 non-null  float64\n",
            " 8   floor                 23699 non-null  int64  \n",
            " 9   is_apartment          2775 non-null   object \n",
            " 10  studio                23699 non-null  bool   \n",
            " 11  open_plan             23699 non-null  bool   \n",
            " 12  kitchen_area          21421 non-null  float64\n",
            " 13  balcony               12180 non-null  float64\n",
            " 14  locality_name         23650 non-null  object \n",
            " 15  airports_nearest      18157 non-null  float64\n",
            " 16  cityCenters_nearest   18180 non-null  float64\n",
            " 17  parks_around3000      18181 non-null  float64\n",
            " 18  parks_nearest         8079 non-null   float64\n",
            " 19  ponds_around3000      18181 non-null  float64\n",
            " 20  ponds_nearest         9110 non-null   float64\n",
            " 21  days_exposition       20518 non-null  float64\n",
            "dtypes: bool(2), float64(14), int64(3), object(3)\n",
            "memory usage: 3.7+ MB\n",
            "None\n"
          ]
        }
      ]
    },
    {
      "cell_type": "markdown",
      "source": [
        "## Вывод\n",
        "Файл с данным содержит 22 столбца (2 булевых, 3 целочисленных, 14 столбцов с плавающей точкой и 3 столбца с объектами) и 23699 записей.\n",
        "\n",
        "В 14 из 22 столбцов есть пропущенные значения. Нужно понять какие данные пропущены случайно, какие записаны некорректно и какие пропуски можно игнорировать.\n",
        "\n",
        "Названия столбцов и их порядок записан не лучшем образом. Их лучше переопределить.\n",
        "\n",
        "В некоторых столбцах, например, floors_total и balcony имеют число с плавающей точной, а должны быть целочисленными. Проверим это.\n",
        "\n",
        "\n"
      ],
      "metadata": {
        "id": "tEnqWFY6lFrh"
      }
    },
    {
      "cell_type": "markdown",
      "source": [
        "# Шаг 2. Обработка данных"
      ],
      "metadata": {
        "id": "JboVwf5Ev_w4"
      }
    },
    {
      "cell_type": "code",
      "source": [
        "df.columns"
      ],
      "metadata": {
        "colab": {
          "base_uri": "https://localhost:8080/"
        },
        "id": "3azNyY-Nm5y8",
        "outputId": "201cdcea-38f4-4e5b-b6e8-58bc98a0c23a"
      },
      "execution_count": 39,
      "outputs": [
        {
          "output_type": "execute_result",
          "data": {
            "text/plain": [
              "Index(['total_images', 'last_price', 'total_area', 'first_day_exposition',\n",
              "       'rooms', 'ceiling_height', 'floors_total', 'living_area', 'floor',\n",
              "       'is_apartment', 'studio', 'open_plan', 'kitchen_area', 'balcony',\n",
              "       'locality_name', 'airports_nearest', 'cityCenters_nearest',\n",
              "       'parks_around3000', 'parks_nearest', 'ponds_around3000',\n",
              "       'ponds_nearest', 'days_exposition'],\n",
              "      dtype='object')"
            ]
          },
          "metadata": {},
          "execution_count": 39
        }
      ]
    },
    {
      "cell_type": "code",
      "source": [
        "#приведем названия к snake_case \n",
        "df = df.rename(columns={\n",
        "    \"cityCenters_nearest\": \"city_сenters_nearest\",\n",
        "    \"parks_around3000\": \"parks_around_3000\",\n",
        "    \"ponds_around3000\": \"ponds_around_3000\",\n",
        "    \"is_apartment\": \"apartment\"\n",
        "})\n",
        "\n",
        "df.columns"
      ],
      "metadata": {
        "colab": {
          "base_uri": "https://localhost:8080/"
        },
        "id": "-cl71Cp4nrB8",
        "outputId": "0c2c5fbe-3c08-40c5-fd10-c833d6c31676"
      },
      "execution_count": 40,
      "outputs": [
        {
          "output_type": "execute_result",
          "data": {
            "text/plain": [
              "Index(['total_images', 'last_price', 'total_area', 'first_day_exposition',\n",
              "       'rooms', 'ceiling_height', 'floors_total', 'living_area', 'floor',\n",
              "       'apartment', 'studio', 'open_plan', 'kitchen_area', 'balcony',\n",
              "       'locality_name', 'airports_nearest', 'city_сenters_nearest',\n",
              "       'parks_around_3000', 'parks_nearest', 'ponds_around_3000',\n",
              "       'ponds_nearest', 'days_exposition'],\n",
              "      dtype='object')"
            ]
          },
          "metadata": {},
          "execution_count": 40
        }
      ]
    },
    {
      "cell_type": "markdown",
      "source": [
        "## Проверка на пропуски и аномалии, изменение типов данных\n",
        "В таблице присутствуют пропуски и аномалии. Необходимо определить насколько они критичные."
      ],
      "metadata": {
        "id": "8gA6EmJWaE6v"
      }
    },
    {
      "cell_type": "code",
      "source": [
        "#проверка столбца 'total_images'\n",
        "df['total_images'].unique()\n",
        "#в целом данные выглядят адекватно"
      ],
      "metadata": {
        "colab": {
          "base_uri": "https://localhost:8080/"
        },
        "id": "1qrbwHasuLKc",
        "outputId": "9a66a336-ea8a-4279-b6c7-5cea62b983bc"
      },
      "execution_count": 41,
      "outputs": [
        {
          "output_type": "execute_result",
          "data": {
            "text/plain": [
              "array([20,  7, 10,  0,  2,  6,  5, 18,  9,  1, 16, 11,  8, 12, 13,  3, 15,\n",
              "       17, 14, 19, 32,  4, 35, 39, 23, 21, 27, 30, 24, 25, 28, 31, 22, 29,\n",
              "       26, 50, 42, 37])"
            ]
          },
          "metadata": {},
          "execution_count": 41
        }
      ]
    },
    {
      "cell_type": "code",
      "source": [
        "#приведем столбец 'last_price' к целочисленным значениям\n",
        "df['last_price'] = df['last_price'].astype('int')"
      ],
      "metadata": {
        "id": "GZukgn0SuyoM"
      },
      "execution_count": 42,
      "outputs": []
    },
    {
      "cell_type": "code",
      "source": [
        "#Изменим большие цифры в last_price на миллионы\n",
        "df['last_price'] = df['last_price']/1000000"
      ],
      "metadata": {
        "id": "CTZ9Nb-IZOzp"
      },
      "execution_count": 43,
      "outputs": []
    },
    {
      "cell_type": "code",
      "source": [
        "#Переведем столбец first_day_exposition в тип данных datetime \n",
        "df['first_day_exposition'] = pd.to_datetime(df['first_day_exposition'])\n",
        "df['first_day_exposition']"
      ],
      "metadata": {
        "colab": {
          "base_uri": "https://localhost:8080/"
        },
        "id": "J1Glhhazy5tL",
        "outputId": "1dcc4494-5f2c-42d3-9412-f876db984d23"
      },
      "execution_count": 44,
      "outputs": [
        {
          "output_type": "execute_result",
          "data": {
            "text/plain": [
              "0       2019-03-07\n",
              "1       2018-12-04\n",
              "2       2015-08-20\n",
              "3       2015-07-24\n",
              "4       2018-06-19\n",
              "           ...    \n",
              "23694   2017-03-21\n",
              "23695   2018-01-15\n",
              "23696   2018-02-11\n",
              "23697   2017-03-28\n",
              "23698   2017-07-21\n",
              "Name: first_day_exposition, Length: 23699, dtype: datetime64[ns]"
            ]
          },
          "metadata": {},
          "execution_count": 44
        }
      ]
    },
    {
      "cell_type": "code",
      "source": [
        "#проверим на пропуски\n",
        "df.isnull().sum().sort_values()"
      ],
      "metadata": {
        "colab": {
          "base_uri": "https://localhost:8080/"
        },
        "id": "H3wPAV3pb5j4",
        "outputId": "899d9819-7803-4aa0-baa4-ee826d3c953c"
      },
      "execution_count": 45,
      "outputs": [
        {
          "output_type": "execute_result",
          "data": {
            "text/plain": [
              "total_images                0\n",
              "open_plan                   0\n",
              "floor                       0\n",
              "rooms                       0\n",
              "studio                      0\n",
              "total_area                  0\n",
              "last_price                  0\n",
              "first_day_exposition        0\n",
              "locality_name              49\n",
              "floors_total               86\n",
              "living_area              1903\n",
              "kitchen_area             2278\n",
              "days_exposition          3181\n",
              "ponds_around_3000        5518\n",
              "parks_around_3000        5518\n",
              "city_сenters_nearest     5519\n",
              "airports_nearest         5542\n",
              "ceiling_height           9195\n",
              "balcony                 11519\n",
              "ponds_nearest           14589\n",
              "parks_nearest           15620\n",
              "apartment               20924\n",
              "dtype: int64"
            ]
          },
          "metadata": {},
          "execution_count": 45
        }
      ]
    },
    {
      "cell_type": "code",
      "source": [
        "#и в процентах\n",
        "df.isnull().sum().sort_values()/df.shape[0]*100"
      ],
      "metadata": {
        "colab": {
          "base_uri": "https://localhost:8080/"
        },
        "id": "anXAvIqRcQy2",
        "outputId": "8b75d3fb-a6c7-4e48-d1e9-a05eff4b2c88"
      },
      "execution_count": 46,
      "outputs": [
        {
          "output_type": "execute_result",
          "data": {
            "text/plain": [
              "total_images             0.000000\n",
              "open_plan                0.000000\n",
              "floor                    0.000000\n",
              "rooms                    0.000000\n",
              "studio                   0.000000\n",
              "total_area               0.000000\n",
              "last_price               0.000000\n",
              "first_day_exposition     0.000000\n",
              "locality_name            0.206760\n",
              "floors_total             0.362885\n",
              "living_area              8.029875\n",
              "kitchen_area             9.612220\n",
              "days_exposition         13.422507\n",
              "ponds_around_3000       23.283683\n",
              "parks_around_3000       23.283683\n",
              "city_сenters_nearest    23.287902\n",
              "airports_nearest        23.384953\n",
              "ceiling_height          38.799105\n",
              "balcony                 48.605426\n",
              "ponds_nearest           61.559559\n",
              "parks_nearest           65.909954\n",
              "apartment               88.290645\n",
              "dtype: float64"
            ]
          },
          "metadata": {},
          "execution_count": 46
        }
      ]
    },
    {
      "cell_type": "markdown",
      "source": [
        "Все основные данные заполнены полностью. Пропуски в колонках 'apartment' и 'balcony' скорей всего связаны с отсутствием балкон и помещение не является апартаментами. Заменим пропущенные значения на апартаментов на False, а балконов на 0."
      ],
      "metadata": {
        "id": "qsLyXPOJetgw"
      }
    },
    {
      "cell_type": "code",
      "source": [
        "df['apartment']=df['apartment'].fillna(False)\n",
        "df['balcony']=df['balcony'].fillna(0)"
      ],
      "metadata": {
        "id": "XXS2jOuF2qS6"
      },
      "execution_count": 47,
      "outputs": []
    },
    {
      "cell_type": "code",
      "source": [
        "df.isnull().sum().sort_values()/df.shape[0]*100"
      ],
      "metadata": {
        "colab": {
          "base_uri": "https://localhost:8080/"
        },
        "id": "JeOpX56-3FSr",
        "outputId": "f7be3734-9233-40c2-aa3d-86bcc72af7a3"
      },
      "execution_count": 48,
      "outputs": [
        {
          "output_type": "execute_result",
          "data": {
            "text/plain": [
              "total_images             0.000000\n",
              "balcony                  0.000000\n",
              "open_plan                0.000000\n",
              "apartment                0.000000\n",
              "floor                    0.000000\n",
              "studio                   0.000000\n",
              "rooms                    0.000000\n",
              "first_day_exposition     0.000000\n",
              "total_area               0.000000\n",
              "last_price               0.000000\n",
              "locality_name            0.206760\n",
              "floors_total             0.362885\n",
              "living_area              8.029875\n",
              "kitchen_area             9.612220\n",
              "days_exposition         13.422507\n",
              "parks_around_3000       23.283683\n",
              "ponds_around_3000       23.283683\n",
              "city_сenters_nearest    23.287902\n",
              "airports_nearest        23.384953\n",
              "ceiling_height          38.799105\n",
              "ponds_nearest           61.559559\n",
              "parks_nearest           65.909954\n",
              "dtype: float64"
            ]
          },
          "metadata": {},
          "execution_count": 48
        }
      ]
    },
    {
      "cell_type": "markdown",
      "source": [
        "Удалим строки без города, они будут мешать в анализе и даже пользователям такие объявления не нужны, не понятно, где эта квартира."
      ],
      "metadata": {
        "id": "SleMSS644IhU"
      }
    },
    {
      "cell_type": "code",
      "source": [
        "df = df.dropna(subset=['locality_name'])\n",
        "df['apartment'].unique()\n"
      ],
      "metadata": {
        "colab": {
          "base_uri": "https://localhost:8080/"
        },
        "id": "FFU5eqaD4F5J",
        "outputId": "e9cddb83-6ff1-42c0-a503-4d361461cd50"
      },
      "execution_count": 49,
      "outputs": [
        {
          "output_type": "execute_result",
          "data": {
            "text/plain": [
              "array([False,  True])"
            ]
          },
          "metadata": {},
          "execution_count": 49
        }
      ]
    },
    {
      "cell_type": "code",
      "source": [
        "df.isnull().sum().sort_values()/df.shape[0]*100"
      ],
      "metadata": {
        "colab": {
          "base_uri": "https://localhost:8080/"
        },
        "id": "NAYGIgLf49ix",
        "outputId": "566c6399-cbb3-4c0b-c47d-2df49dae2e34"
      },
      "execution_count": 50,
      "outputs": [
        {
          "output_type": "execute_result",
          "data": {
            "text/plain": [
              "total_images             0.000000\n",
              "locality_name            0.000000\n",
              "balcony                  0.000000\n",
              "open_plan                0.000000\n",
              "apartment                0.000000\n",
              "floor                    0.000000\n",
              "studio                   0.000000\n",
              "rooms                    0.000000\n",
              "first_day_exposition     0.000000\n",
              "total_area               0.000000\n",
              "last_price               0.000000\n",
              "floors_total             0.359408\n",
              "living_area              8.025370\n",
              "kitchen_area             9.594080\n",
              "days_exposition         13.446089\n",
              "parks_around_3000       23.298097\n",
              "ponds_around_3000       23.298097\n",
              "city_сenters_nearest    23.302326\n",
              "airports_nearest        23.399577\n",
              "ceiling_height          38.731501\n",
              "ponds_nearest           61.585624\n",
              "parks_nearest           65.902748\n",
              "dtype: float64"
            ]
          },
          "metadata": {},
          "execution_count": 50
        }
      ]
    },
    {
      "cell_type": "code",
      "source": [
        "df['studio'].unique()"
      ],
      "metadata": {
        "colab": {
          "base_uri": "https://localhost:8080/"
        },
        "id": "4BTzWgYt4vuZ",
        "outputId": "6c67efca-1987-4695-9fd8-1d57b0ffa9c7"
      },
      "execution_count": 51,
      "outputs": [
        {
          "output_type": "execute_result",
          "data": {
            "text/plain": [
              "array([False,  True])"
            ]
          },
          "metadata": {},
          "execution_count": 51
        }
      ]
    },
    {
      "cell_type": "code",
      "source": [
        "df['open_plan'].unique()"
      ],
      "metadata": {
        "colab": {
          "base_uri": "https://localhost:8080/"
        },
        "id": "alwKr4hE5fTB",
        "outputId": "4e6136e7-2d75-461c-ea9b-6b012c250370"
      },
      "execution_count": 52,
      "outputs": [
        {
          "output_type": "execute_result",
          "data": {
            "text/plain": [
              "array([False,  True])"
            ]
          },
          "metadata": {},
          "execution_count": 52
        }
      ]
    },
    {
      "cell_type": "code",
      "source": [
        "df.columns.to_list()"
      ],
      "metadata": {
        "colab": {
          "base_uri": "https://localhost:8080/"
        },
        "id": "-w_I7vqSKTum",
        "outputId": "d9c98f49-8f52-482b-ad93-7f66e31a584f"
      },
      "execution_count": 53,
      "outputs": [
        {
          "output_type": "execute_result",
          "data": {
            "text/plain": [
              "['total_images',\n",
              " 'last_price',\n",
              " 'total_area',\n",
              " 'first_day_exposition',\n",
              " 'rooms',\n",
              " 'ceiling_height',\n",
              " 'floors_total',\n",
              " 'living_area',\n",
              " 'floor',\n",
              " 'apartment',\n",
              " 'studio',\n",
              " 'open_plan',\n",
              " 'kitchen_area',\n",
              " 'balcony',\n",
              " 'locality_name',\n",
              " 'airports_nearest',\n",
              " 'city_сenters_nearest',\n",
              " 'parks_around_3000',\n",
              " 'parks_nearest',\n",
              " 'ponds_around_3000',\n",
              " 'ponds_nearest',\n",
              " 'days_exposition']"
            ]
          },
          "metadata": {},
          "execution_count": 53
        }
      ]
    },
    {
      "cell_type": "markdown",
      "source": [
        "Переведем в километры расстояние до парков, аэропортов и центра города."
      ],
      "metadata": {
        "id": "RkSgi2fX6Ghs"
      }
    },
    {
      "cell_type": "code",
      "source": [
        "df['city_сenters_nearest_km'] = df['city_сenters_nearest'] / 1000\n",
        "df['airports_nearest_km'] = df['airports_nearest'] / 1000\n",
        "df['parks_around_3_km'] = df['parks_around_3000'] / 1000\n",
        "df['nearest_parks_km'] = df['parks_nearest'] / 1000\n",
        "df['ponds_around_3_km'] = df['ponds_around_3000'] / 1000\n",
        "df['nearest_pond_km'] = df['ponds_nearest'] / 1000\n",
        "\n",
        "del df['city_сenters_nearest']\n",
        "del df['airports_nearest']\n",
        "del df['parks_around_3000']\n",
        "del df['parks_nearest']\n",
        "del df['ponds_around_3000']\n",
        "del df['ponds_nearest']\n",
        "\n",
        "df.head()"
      ],
      "metadata": {
        "id": "gBCS1eQb6KKz",
        "colab": {
          "base_uri": "https://localhost:8080/",
          "height": 404
        },
        "outputId": "a005df37-bd0e-43bc-bbe6-5fc11ac70200"
      },
      "execution_count": 54,
      "outputs": [
        {
          "output_type": "stream",
          "name": "stdout",
          "text": [
            "Warning: Total number of columns (22) exceeds max_columns (20). Falling back to pandas display.\n"
          ]
        },
        {
          "output_type": "execute_result",
          "data": {
            "text/plain": [
              "   total_images  last_price  total_area first_day_exposition  rooms  \\\n",
              "0            20      13.000       108.0           2019-03-07      3   \n",
              "1             7       3.350        40.4           2018-12-04      1   \n",
              "2            10       5.196        56.0           2015-08-20      2   \n",
              "3             0      64.900       159.0           2015-07-24      3   \n",
              "4             2      10.000       100.0           2018-06-19      2   \n",
              "\n",
              "   ceiling_height  floors_total  living_area  floor  apartment  ...  \\\n",
              "0            2.70          16.0         51.0      8      False  ...   \n",
              "1             NaN          11.0         18.6      1      False  ...   \n",
              "2             NaN           5.0         34.3      4      False  ...   \n",
              "3             NaN          14.0          NaN      9      False  ...   \n",
              "4            3.03          14.0         32.0     13      False  ...   \n",
              "\n",
              "   kitchen_area  balcony    locality_name  days_exposition  \\\n",
              "0          25.0      0.0  Санкт-Петербург              NaN   \n",
              "1          11.0      2.0   посёлок Шушары             81.0   \n",
              "2           8.3      0.0  Санкт-Петербург            558.0   \n",
              "3           NaN      0.0  Санкт-Петербург            424.0   \n",
              "4          41.0      0.0  Санкт-Петербург            121.0   \n",
              "\n",
              "  city_сenters_nearest_km  airports_nearest_km  parks_around_3_km  \\\n",
              "0                  16.028               18.863              0.001   \n",
              "1                  18.603               12.817              0.000   \n",
              "2                  13.933               21.741              0.001   \n",
              "3                   6.800               28.098              0.002   \n",
              "4                   8.098               31.856              0.002   \n",
              "\n",
              "   nearest_parks_km  ponds_around_3_km  nearest_pond_km  \n",
              "0             0.482              0.002            0.755  \n",
              "1               NaN              0.000              NaN  \n",
              "2             0.090              0.002            0.574  \n",
              "3             0.084              0.003            0.234  \n",
              "4             0.112              0.001            0.048  \n",
              "\n",
              "[5 rows x 22 columns]"
            ],
            "text/html": [
              "\n",
              "  <div id=\"df-c81dee16-050f-4e8c-9e22-9e89a7bceb5b\">\n",
              "    <div class=\"colab-df-container\">\n",
              "      <div>\n",
              "<style scoped>\n",
              "    .dataframe tbody tr th:only-of-type {\n",
              "        vertical-align: middle;\n",
              "    }\n",
              "\n",
              "    .dataframe tbody tr th {\n",
              "        vertical-align: top;\n",
              "    }\n",
              "\n",
              "    .dataframe thead th {\n",
              "        text-align: right;\n",
              "    }\n",
              "</style>\n",
              "<table border=\"1\" class=\"dataframe\">\n",
              "  <thead>\n",
              "    <tr style=\"text-align: right;\">\n",
              "      <th></th>\n",
              "      <th>total_images</th>\n",
              "      <th>last_price</th>\n",
              "      <th>total_area</th>\n",
              "      <th>first_day_exposition</th>\n",
              "      <th>rooms</th>\n",
              "      <th>ceiling_height</th>\n",
              "      <th>floors_total</th>\n",
              "      <th>living_area</th>\n",
              "      <th>floor</th>\n",
              "      <th>apartment</th>\n",
              "      <th>...</th>\n",
              "      <th>kitchen_area</th>\n",
              "      <th>balcony</th>\n",
              "      <th>locality_name</th>\n",
              "      <th>days_exposition</th>\n",
              "      <th>city_сenters_nearest_km</th>\n",
              "      <th>airports_nearest_km</th>\n",
              "      <th>parks_around_3_km</th>\n",
              "      <th>nearest_parks_km</th>\n",
              "      <th>ponds_around_3_km</th>\n",
              "      <th>nearest_pond_km</th>\n",
              "    </tr>\n",
              "  </thead>\n",
              "  <tbody>\n",
              "    <tr>\n",
              "      <th>0</th>\n",
              "      <td>20</td>\n",
              "      <td>13.000</td>\n",
              "      <td>108.0</td>\n",
              "      <td>2019-03-07</td>\n",
              "      <td>3</td>\n",
              "      <td>2.70</td>\n",
              "      <td>16.0</td>\n",
              "      <td>51.0</td>\n",
              "      <td>8</td>\n",
              "      <td>False</td>\n",
              "      <td>...</td>\n",
              "      <td>25.0</td>\n",
              "      <td>0.0</td>\n",
              "      <td>Санкт-Петербург</td>\n",
              "      <td>NaN</td>\n",
              "      <td>16.028</td>\n",
              "      <td>18.863</td>\n",
              "      <td>0.001</td>\n",
              "      <td>0.482</td>\n",
              "      <td>0.002</td>\n",
              "      <td>0.755</td>\n",
              "    </tr>\n",
              "    <tr>\n",
              "      <th>1</th>\n",
              "      <td>7</td>\n",
              "      <td>3.350</td>\n",
              "      <td>40.4</td>\n",
              "      <td>2018-12-04</td>\n",
              "      <td>1</td>\n",
              "      <td>NaN</td>\n",
              "      <td>11.0</td>\n",
              "      <td>18.6</td>\n",
              "      <td>1</td>\n",
              "      <td>False</td>\n",
              "      <td>...</td>\n",
              "      <td>11.0</td>\n",
              "      <td>2.0</td>\n",
              "      <td>посёлок Шушары</td>\n",
              "      <td>81.0</td>\n",
              "      <td>18.603</td>\n",
              "      <td>12.817</td>\n",
              "      <td>0.000</td>\n",
              "      <td>NaN</td>\n",
              "      <td>0.000</td>\n",
              "      <td>NaN</td>\n",
              "    </tr>\n",
              "    <tr>\n",
              "      <th>2</th>\n",
              "      <td>10</td>\n",
              "      <td>5.196</td>\n",
              "      <td>56.0</td>\n",
              "      <td>2015-08-20</td>\n",
              "      <td>2</td>\n",
              "      <td>NaN</td>\n",
              "      <td>5.0</td>\n",
              "      <td>34.3</td>\n",
              "      <td>4</td>\n",
              "      <td>False</td>\n",
              "      <td>...</td>\n",
              "      <td>8.3</td>\n",
              "      <td>0.0</td>\n",
              "      <td>Санкт-Петербург</td>\n",
              "      <td>558.0</td>\n",
              "      <td>13.933</td>\n",
              "      <td>21.741</td>\n",
              "      <td>0.001</td>\n",
              "      <td>0.090</td>\n",
              "      <td>0.002</td>\n",
              "      <td>0.574</td>\n",
              "    </tr>\n",
              "    <tr>\n",
              "      <th>3</th>\n",
              "      <td>0</td>\n",
              "      <td>64.900</td>\n",
              "      <td>159.0</td>\n",
              "      <td>2015-07-24</td>\n",
              "      <td>3</td>\n",
              "      <td>NaN</td>\n",
              "      <td>14.0</td>\n",
              "      <td>NaN</td>\n",
              "      <td>9</td>\n",
              "      <td>False</td>\n",
              "      <td>...</td>\n",
              "      <td>NaN</td>\n",
              "      <td>0.0</td>\n",
              "      <td>Санкт-Петербург</td>\n",
              "      <td>424.0</td>\n",
              "      <td>6.800</td>\n",
              "      <td>28.098</td>\n",
              "      <td>0.002</td>\n",
              "      <td>0.084</td>\n",
              "      <td>0.003</td>\n",
              "      <td>0.234</td>\n",
              "    </tr>\n",
              "    <tr>\n",
              "      <th>4</th>\n",
              "      <td>2</td>\n",
              "      <td>10.000</td>\n",
              "      <td>100.0</td>\n",
              "      <td>2018-06-19</td>\n",
              "      <td>2</td>\n",
              "      <td>3.03</td>\n",
              "      <td>14.0</td>\n",
              "      <td>32.0</td>\n",
              "      <td>13</td>\n",
              "      <td>False</td>\n",
              "      <td>...</td>\n",
              "      <td>41.0</td>\n",
              "      <td>0.0</td>\n",
              "      <td>Санкт-Петербург</td>\n",
              "      <td>121.0</td>\n",
              "      <td>8.098</td>\n",
              "      <td>31.856</td>\n",
              "      <td>0.002</td>\n",
              "      <td>0.112</td>\n",
              "      <td>0.001</td>\n",
              "      <td>0.048</td>\n",
              "    </tr>\n",
              "  </tbody>\n",
              "</table>\n",
              "<p>5 rows × 22 columns</p>\n",
              "</div>\n",
              "      <button class=\"colab-df-convert\" onclick=\"convertToInteractive('df-c81dee16-050f-4e8c-9e22-9e89a7bceb5b')\"\n",
              "              title=\"Convert this dataframe to an interactive table.\"\n",
              "              style=\"display:none;\">\n",
              "        \n",
              "  <svg xmlns=\"http://www.w3.org/2000/svg\" height=\"24px\"viewBox=\"0 0 24 24\"\n",
              "       width=\"24px\">\n",
              "    <path d=\"M0 0h24v24H0V0z\" fill=\"none\"/>\n",
              "    <path d=\"M18.56 5.44l.94 2.06.94-2.06 2.06-.94-2.06-.94-.94-2.06-.94 2.06-2.06.94zm-11 1L8.5 8.5l.94-2.06 2.06-.94-2.06-.94L8.5 2.5l-.94 2.06-2.06.94zm10 10l.94 2.06.94-2.06 2.06-.94-2.06-.94-.94-2.06-.94 2.06-2.06.94z\"/><path d=\"M17.41 7.96l-1.37-1.37c-.4-.4-.92-.59-1.43-.59-.52 0-1.04.2-1.43.59L10.3 9.45l-7.72 7.72c-.78.78-.78 2.05 0 2.83L4 21.41c.39.39.9.59 1.41.59.51 0 1.02-.2 1.41-.59l7.78-7.78 2.81-2.81c.8-.78.8-2.07 0-2.86zM5.41 20L4 18.59l7.72-7.72 1.47 1.35L5.41 20z\"/>\n",
              "  </svg>\n",
              "      </button>\n",
              "      \n",
              "  <style>\n",
              "    .colab-df-container {\n",
              "      display:flex;\n",
              "      flex-wrap:wrap;\n",
              "      gap: 12px;\n",
              "    }\n",
              "\n",
              "    .colab-df-convert {\n",
              "      background-color: #E8F0FE;\n",
              "      border: none;\n",
              "      border-radius: 50%;\n",
              "      cursor: pointer;\n",
              "      display: none;\n",
              "      fill: #1967D2;\n",
              "      height: 32px;\n",
              "      padding: 0 0 0 0;\n",
              "      width: 32px;\n",
              "    }\n",
              "\n",
              "    .colab-df-convert:hover {\n",
              "      background-color: #E2EBFA;\n",
              "      box-shadow: 0px 1px 2px rgba(60, 64, 67, 0.3), 0px 1px 3px 1px rgba(60, 64, 67, 0.15);\n",
              "      fill: #174EA6;\n",
              "    }\n",
              "\n",
              "    [theme=dark] .colab-df-convert {\n",
              "      background-color: #3B4455;\n",
              "      fill: #D2E3FC;\n",
              "    }\n",
              "\n",
              "    [theme=dark] .colab-df-convert:hover {\n",
              "      background-color: #434B5C;\n",
              "      box-shadow: 0px 1px 3px 1px rgba(0, 0, 0, 0.15);\n",
              "      filter: drop-shadow(0px 1px 2px rgba(0, 0, 0, 0.3));\n",
              "      fill: #FFFFFF;\n",
              "    }\n",
              "  </style>\n",
              "\n",
              "      <script>\n",
              "        const buttonEl =\n",
              "          document.querySelector('#df-c81dee16-050f-4e8c-9e22-9e89a7bceb5b button.colab-df-convert');\n",
              "        buttonEl.style.display =\n",
              "          google.colab.kernel.accessAllowed ? 'block' : 'none';\n",
              "\n",
              "        async function convertToInteractive(key) {\n",
              "          const element = document.querySelector('#df-c81dee16-050f-4e8c-9e22-9e89a7bceb5b');\n",
              "          const dataTable =\n",
              "            await google.colab.kernel.invokeFunction('convertToInteractive',\n",
              "                                                     [key], {});\n",
              "          if (!dataTable) return;\n",
              "\n",
              "          const docLinkHtml = 'Like what you see? Visit the ' +\n",
              "            '<a target=\"_blank\" href=https://colab.research.google.com/notebooks/data_table.ipynb>data table notebook</a>'\n",
              "            + ' to learn more about interactive tables.';\n",
              "          element.innerHTML = '';\n",
              "          dataTable['output_type'] = 'display_data';\n",
              "          await google.colab.output.renderOutput(dataTable, element);\n",
              "          const docLink = document.createElement('div');\n",
              "          docLink.innerHTML = docLinkHtml;\n",
              "          element.appendChild(docLink);\n",
              "        }\n",
              "      </script>\n",
              "    </div>\n",
              "  </div>\n",
              "  "
            ]
          },
          "metadata": {},
          "execution_count": 54
        }
      ]
    },
    {
      "cell_type": "markdown",
      "source": [
        "## Вывод\n",
        "Таблицу обработали, пропуски либо заменили, либо удалили. Данные в строках привили в удобный вид."
      ],
      "metadata": {
        "id": "_KzUq_w7_Zxz"
      }
    },
    {
      "cell_type": "markdown",
      "source": [
        "# Шаг 3.  Добавим данные в таблицу.  "
      ],
      "metadata": {
        "id": "ZO3UIsj8_zZA"
      }
    },
    {
      "cell_type": "markdown",
      "source": [
        "## Добавим цену за квадратный метр."
      ],
      "metadata": {
        "id": "23DJryVcAewB"
      }
    },
    {
      "cell_type": "code",
      "source": [
        "df['price_per_meter'] = (df['last_price']/df['total_area'])\n",
        "df['price_per_meter']"
      ],
      "metadata": {
        "colab": {
          "base_uri": "https://localhost:8080/"
        },
        "id": "8FC6uHtJApNT",
        "outputId": "8427c611-7645-456b-b1ec-583ca1686b5a"
      },
      "execution_count": 55,
      "outputs": [
        {
          "output_type": "execute_result",
          "data": {
            "text/plain": [
              "0        0.120370\n",
              "1        0.082921\n",
              "2        0.092786\n",
              "3        0.408176\n",
              "4        0.100000\n",
              "           ...   \n",
              "23694    0.072491\n",
              "23695    0.052542\n",
              "23696    0.044092\n",
              "23697    0.149511\n",
              "23698    0.041796\n",
              "Name: price_per_meter, Length: 23650, dtype: float64"
            ]
          },
          "metadata": {},
          "execution_count": 55
        }
      ]
    },
    {
      "cell_type": "markdown",
      "source": [
        "## Добавим день недели, месяц и год публикации."
      ],
      "metadata": {
        "id": "G8ZPpnCEBZHg"
      }
    },
    {
      "cell_type": "code",
      "source": [
        "df['published_day'] = df['first_day_exposition'].dt.weekday\n",
        "df['published_month'] = pd.DatetimeIndex(df['first_day_exposition']).month\n",
        "df['published_year'] = pd.DatetimeIndex(df['first_day_exposition']).year\n",
        "\n",
        "df.head()"
      ],
      "metadata": {
        "colab": {
          "base_uri": "https://localhost:8080/",
          "height": 317
        },
        "id": "ST0pYEmaBj-6",
        "outputId": "b221f23c-1e9b-4d52-d570-23cc842a1220"
      },
      "execution_count": 56,
      "outputs": [
        {
          "output_type": "stream",
          "name": "stdout",
          "text": [
            "Warning: Total number of columns (26) exceeds max_columns (20). Falling back to pandas display.\n"
          ]
        },
        {
          "output_type": "execute_result",
          "data": {
            "text/plain": [
              "   total_images  last_price  total_area first_day_exposition  rooms  \\\n",
              "0            20      13.000       108.0           2019-03-07      3   \n",
              "1             7       3.350        40.4           2018-12-04      1   \n",
              "2            10       5.196        56.0           2015-08-20      2   \n",
              "3             0      64.900       159.0           2015-07-24      3   \n",
              "4             2      10.000       100.0           2018-06-19      2   \n",
              "\n",
              "   ceiling_height  floors_total  living_area  floor  apartment  ...  \\\n",
              "0            2.70          16.0         51.0      8      False  ...   \n",
              "1             NaN          11.0         18.6      1      False  ...   \n",
              "2             NaN           5.0         34.3      4      False  ...   \n",
              "3             NaN          14.0          NaN      9      False  ...   \n",
              "4            3.03          14.0         32.0     13      False  ...   \n",
              "\n",
              "   city_сenters_nearest_km  airports_nearest_km  parks_around_3_km  \\\n",
              "0                   16.028               18.863              0.001   \n",
              "1                   18.603               12.817              0.000   \n",
              "2                   13.933               21.741              0.001   \n",
              "3                    6.800               28.098              0.002   \n",
              "4                    8.098               31.856              0.002   \n",
              "\n",
              "   nearest_parks_km ponds_around_3_km  nearest_pond_km  price_per_meter  \\\n",
              "0             0.482             0.002            0.755         0.120370   \n",
              "1               NaN             0.000              NaN         0.082921   \n",
              "2             0.090             0.002            0.574         0.092786   \n",
              "3             0.084             0.003            0.234         0.408176   \n",
              "4             0.112             0.001            0.048         0.100000   \n",
              "\n",
              "   published_day  published_month  published_year  \n",
              "0              3                3            2019  \n",
              "1              1               12            2018  \n",
              "2              3                8            2015  \n",
              "3              4                7            2015  \n",
              "4              1                6            2018  \n",
              "\n",
              "[5 rows x 26 columns]"
            ],
            "text/html": [
              "\n",
              "  <div id=\"df-3b39d669-b823-4b28-8ec5-9d0678bb9d01\">\n",
              "    <div class=\"colab-df-container\">\n",
              "      <div>\n",
              "<style scoped>\n",
              "    .dataframe tbody tr th:only-of-type {\n",
              "        vertical-align: middle;\n",
              "    }\n",
              "\n",
              "    .dataframe tbody tr th {\n",
              "        vertical-align: top;\n",
              "    }\n",
              "\n",
              "    .dataframe thead th {\n",
              "        text-align: right;\n",
              "    }\n",
              "</style>\n",
              "<table border=\"1\" class=\"dataframe\">\n",
              "  <thead>\n",
              "    <tr style=\"text-align: right;\">\n",
              "      <th></th>\n",
              "      <th>total_images</th>\n",
              "      <th>last_price</th>\n",
              "      <th>total_area</th>\n",
              "      <th>first_day_exposition</th>\n",
              "      <th>rooms</th>\n",
              "      <th>ceiling_height</th>\n",
              "      <th>floors_total</th>\n",
              "      <th>living_area</th>\n",
              "      <th>floor</th>\n",
              "      <th>apartment</th>\n",
              "      <th>...</th>\n",
              "      <th>city_сenters_nearest_km</th>\n",
              "      <th>airports_nearest_km</th>\n",
              "      <th>parks_around_3_km</th>\n",
              "      <th>nearest_parks_km</th>\n",
              "      <th>ponds_around_3_km</th>\n",
              "      <th>nearest_pond_km</th>\n",
              "      <th>price_per_meter</th>\n",
              "      <th>published_day</th>\n",
              "      <th>published_month</th>\n",
              "      <th>published_year</th>\n",
              "    </tr>\n",
              "  </thead>\n",
              "  <tbody>\n",
              "    <tr>\n",
              "      <th>0</th>\n",
              "      <td>20</td>\n",
              "      <td>13.000</td>\n",
              "      <td>108.0</td>\n",
              "      <td>2019-03-07</td>\n",
              "      <td>3</td>\n",
              "      <td>2.70</td>\n",
              "      <td>16.0</td>\n",
              "      <td>51.0</td>\n",
              "      <td>8</td>\n",
              "      <td>False</td>\n",
              "      <td>...</td>\n",
              "      <td>16.028</td>\n",
              "      <td>18.863</td>\n",
              "      <td>0.001</td>\n",
              "      <td>0.482</td>\n",
              "      <td>0.002</td>\n",
              "      <td>0.755</td>\n",
              "      <td>0.120370</td>\n",
              "      <td>3</td>\n",
              "      <td>3</td>\n",
              "      <td>2019</td>\n",
              "    </tr>\n",
              "    <tr>\n",
              "      <th>1</th>\n",
              "      <td>7</td>\n",
              "      <td>3.350</td>\n",
              "      <td>40.4</td>\n",
              "      <td>2018-12-04</td>\n",
              "      <td>1</td>\n",
              "      <td>NaN</td>\n",
              "      <td>11.0</td>\n",
              "      <td>18.6</td>\n",
              "      <td>1</td>\n",
              "      <td>False</td>\n",
              "      <td>...</td>\n",
              "      <td>18.603</td>\n",
              "      <td>12.817</td>\n",
              "      <td>0.000</td>\n",
              "      <td>NaN</td>\n",
              "      <td>0.000</td>\n",
              "      <td>NaN</td>\n",
              "      <td>0.082921</td>\n",
              "      <td>1</td>\n",
              "      <td>12</td>\n",
              "      <td>2018</td>\n",
              "    </tr>\n",
              "    <tr>\n",
              "      <th>2</th>\n",
              "      <td>10</td>\n",
              "      <td>5.196</td>\n",
              "      <td>56.0</td>\n",
              "      <td>2015-08-20</td>\n",
              "      <td>2</td>\n",
              "      <td>NaN</td>\n",
              "      <td>5.0</td>\n",
              "      <td>34.3</td>\n",
              "      <td>4</td>\n",
              "      <td>False</td>\n",
              "      <td>...</td>\n",
              "      <td>13.933</td>\n",
              "      <td>21.741</td>\n",
              "      <td>0.001</td>\n",
              "      <td>0.090</td>\n",
              "      <td>0.002</td>\n",
              "      <td>0.574</td>\n",
              "      <td>0.092786</td>\n",
              "      <td>3</td>\n",
              "      <td>8</td>\n",
              "      <td>2015</td>\n",
              "    </tr>\n",
              "    <tr>\n",
              "      <th>3</th>\n",
              "      <td>0</td>\n",
              "      <td>64.900</td>\n",
              "      <td>159.0</td>\n",
              "      <td>2015-07-24</td>\n",
              "      <td>3</td>\n",
              "      <td>NaN</td>\n",
              "      <td>14.0</td>\n",
              "      <td>NaN</td>\n",
              "      <td>9</td>\n",
              "      <td>False</td>\n",
              "      <td>...</td>\n",
              "      <td>6.800</td>\n",
              "      <td>28.098</td>\n",
              "      <td>0.002</td>\n",
              "      <td>0.084</td>\n",
              "      <td>0.003</td>\n",
              "      <td>0.234</td>\n",
              "      <td>0.408176</td>\n",
              "      <td>4</td>\n",
              "      <td>7</td>\n",
              "      <td>2015</td>\n",
              "    </tr>\n",
              "    <tr>\n",
              "      <th>4</th>\n",
              "      <td>2</td>\n",
              "      <td>10.000</td>\n",
              "      <td>100.0</td>\n",
              "      <td>2018-06-19</td>\n",
              "      <td>2</td>\n",
              "      <td>3.03</td>\n",
              "      <td>14.0</td>\n",
              "      <td>32.0</td>\n",
              "      <td>13</td>\n",
              "      <td>False</td>\n",
              "      <td>...</td>\n",
              "      <td>8.098</td>\n",
              "      <td>31.856</td>\n",
              "      <td>0.002</td>\n",
              "      <td>0.112</td>\n",
              "      <td>0.001</td>\n",
              "      <td>0.048</td>\n",
              "      <td>0.100000</td>\n",
              "      <td>1</td>\n",
              "      <td>6</td>\n",
              "      <td>2018</td>\n",
              "    </tr>\n",
              "  </tbody>\n",
              "</table>\n",
              "<p>5 rows × 26 columns</p>\n",
              "</div>\n",
              "      <button class=\"colab-df-convert\" onclick=\"convertToInteractive('df-3b39d669-b823-4b28-8ec5-9d0678bb9d01')\"\n",
              "              title=\"Convert this dataframe to an interactive table.\"\n",
              "              style=\"display:none;\">\n",
              "        \n",
              "  <svg xmlns=\"http://www.w3.org/2000/svg\" height=\"24px\"viewBox=\"0 0 24 24\"\n",
              "       width=\"24px\">\n",
              "    <path d=\"M0 0h24v24H0V0z\" fill=\"none\"/>\n",
              "    <path d=\"M18.56 5.44l.94 2.06.94-2.06 2.06-.94-2.06-.94-.94-2.06-.94 2.06-2.06.94zm-11 1L8.5 8.5l.94-2.06 2.06-.94-2.06-.94L8.5 2.5l-.94 2.06-2.06.94zm10 10l.94 2.06.94-2.06 2.06-.94-2.06-.94-.94-2.06-.94 2.06-2.06.94z\"/><path d=\"M17.41 7.96l-1.37-1.37c-.4-.4-.92-.59-1.43-.59-.52 0-1.04.2-1.43.59L10.3 9.45l-7.72 7.72c-.78.78-.78 2.05 0 2.83L4 21.41c.39.39.9.59 1.41.59.51 0 1.02-.2 1.41-.59l7.78-7.78 2.81-2.81c.8-.78.8-2.07 0-2.86zM5.41 20L4 18.59l7.72-7.72 1.47 1.35L5.41 20z\"/>\n",
              "  </svg>\n",
              "      </button>\n",
              "      \n",
              "  <style>\n",
              "    .colab-df-container {\n",
              "      display:flex;\n",
              "      flex-wrap:wrap;\n",
              "      gap: 12px;\n",
              "    }\n",
              "\n",
              "    .colab-df-convert {\n",
              "      background-color: #E8F0FE;\n",
              "      border: none;\n",
              "      border-radius: 50%;\n",
              "      cursor: pointer;\n",
              "      display: none;\n",
              "      fill: #1967D2;\n",
              "      height: 32px;\n",
              "      padding: 0 0 0 0;\n",
              "      width: 32px;\n",
              "    }\n",
              "\n",
              "    .colab-df-convert:hover {\n",
              "      background-color: #E2EBFA;\n",
              "      box-shadow: 0px 1px 2px rgba(60, 64, 67, 0.3), 0px 1px 3px 1px rgba(60, 64, 67, 0.15);\n",
              "      fill: #174EA6;\n",
              "    }\n",
              "\n",
              "    [theme=dark] .colab-df-convert {\n",
              "      background-color: #3B4455;\n",
              "      fill: #D2E3FC;\n",
              "    }\n",
              "\n",
              "    [theme=dark] .colab-df-convert:hover {\n",
              "      background-color: #434B5C;\n",
              "      box-shadow: 0px 1px 3px 1px rgba(0, 0, 0, 0.15);\n",
              "      filter: drop-shadow(0px 1px 2px rgba(0, 0, 0, 0.3));\n",
              "      fill: #FFFFFF;\n",
              "    }\n",
              "  </style>\n",
              "\n",
              "      <script>\n",
              "        const buttonEl =\n",
              "          document.querySelector('#df-3b39d669-b823-4b28-8ec5-9d0678bb9d01 button.colab-df-convert');\n",
              "        buttonEl.style.display =\n",
              "          google.colab.kernel.accessAllowed ? 'block' : 'none';\n",
              "\n",
              "        async function convertToInteractive(key) {\n",
              "          const element = document.querySelector('#df-3b39d669-b823-4b28-8ec5-9d0678bb9d01');\n",
              "          const dataTable =\n",
              "            await google.colab.kernel.invokeFunction('convertToInteractive',\n",
              "                                                     [key], {});\n",
              "          if (!dataTable) return;\n",
              "\n",
              "          const docLinkHtml = 'Like what you see? Visit the ' +\n",
              "            '<a target=\"_blank\" href=https://colab.research.google.com/notebooks/data_table.ipynb>data table notebook</a>'\n",
              "            + ' to learn more about interactive tables.';\n",
              "          element.innerHTML = '';\n",
              "          dataTable['output_type'] = 'display_data';\n",
              "          await google.colab.output.renderOutput(dataTable, element);\n",
              "          const docLink = document.createElement('div');\n",
              "          docLink.innerHTML = docLinkHtml;\n",
              "          element.appendChild(docLink);\n",
              "        }\n",
              "      </script>\n",
              "    </div>\n",
              "  </div>\n",
              "  "
            ]
          },
          "metadata": {},
          "execution_count": 56
        }
      ]
    },
    {
      "cell_type": "markdown",
      "source": [
        "## Добавим этаж квартиры (первый, последний, другой)."
      ],
      "metadata": {
        "id": "vMyPs6kjB1cA"
      }
    },
    {
      "cell_type": "code",
      "source": [
        "def floor_table(floor,floors_total):\n",
        "    if floor == 1:\n",
        "        return 'первый'\n",
        "    if floor == floors_total:\n",
        "        return 'последний'\n",
        "    else:\n",
        "        return 'другой'\n",
        "\n",
        "df['floor_is'] = df.apply(lambda x: floor_table(x.floor, x.floors_total), axis=1)\n",
        "\n",
        "df['floor_is']"
      ],
      "metadata": {
        "colab": {
          "base_uri": "https://localhost:8080/"
        },
        "id": "CTOIzF-cCIcQ",
        "outputId": "be4c9a30-3ca1-4be8-df98-d7e9658d35fd"
      },
      "execution_count": 57,
      "outputs": [
        {
          "output_type": "execute_result",
          "data": {
            "text/plain": [
              "0        другой\n",
              "1        первый\n",
              "2        другой\n",
              "3        другой\n",
              "4        другой\n",
              "          ...  \n",
              "23694    другой\n",
              "23695    другой\n",
              "23696    первый\n",
              "23697    другой\n",
              "23698    первый\n",
              "Name: floor_is, Length: 23650, dtype: object"
            ]
          },
          "metadata": {},
          "execution_count": 57
        }
      ]
    },
    {
      "cell_type": "markdown",
      "source": [
        "## Добавим соотношение жилой и общей площади."
      ],
      "metadata": {
        "id": "2K3azmaHCzeg"
      }
    },
    {
      "cell_type": "code",
      "source": [
        "df['ratio_area'] = df['living_area']/df['total_area']\n",
        "df['ratio_kitchen'] = df['kitchen_area']/df['total_area']\n",
        "\n",
        "df['ratio_area']"
      ],
      "metadata": {
        "colab": {
          "base_uri": "https://localhost:8080/"
        },
        "id": "0iMpfHwGDAb4",
        "outputId": "c3c7b2d3-2ee3-4743-a7dc-0fe8337551cb"
      },
      "execution_count": 58,
      "outputs": [
        {
          "output_type": "execute_result",
          "data": {
            "text/plain": [
              "0        0.472222\n",
              "1        0.460396\n",
              "2        0.612500\n",
              "3             NaN\n",
              "4        0.320000\n",
              "           ...   \n",
              "23694    0.547792\n",
              "23695    0.644068\n",
              "23696    0.523810\n",
              "23697         NaN\n",
              "23698    0.380805\n",
              "Name: ratio_area, Length: 23650, dtype: float64"
            ]
          },
          "metadata": {},
          "execution_count": 58
        }
      ]
    },
    {
      "cell_type": "code",
      "source": [
        "df['ratio_kitchen']"
      ],
      "metadata": {
        "colab": {
          "base_uri": "https://localhost:8080/"
        },
        "id": "O9unS1e8DGVP",
        "outputId": "258c3aed-1a26-4faf-d75f-93c74a8ab672"
      },
      "execution_count": 59,
      "outputs": [
        {
          "output_type": "execute_result",
          "data": {
            "text/plain": [
              "0        0.231481\n",
              "1        0.272277\n",
              "2        0.148214\n",
              "3             NaN\n",
              "4        0.410000\n",
              "           ...   \n",
              "23694    0.103356\n",
              "23695    0.144068\n",
              "23696         NaN\n",
              "23697    0.303583\n",
              "23698    0.278638\n",
              "Name: ratio_kitchen, Length: 23650, dtype: float64"
            ]
          },
          "metadata": {},
          "execution_count": 59
        }
      ]
    },
    {
      "cell_type": "markdown",
      "source": [
        "# Шаг 4. Проведем исследовательский анализ данных.\n"
      ],
      "metadata": {
        "id": "EX6TcOq7DXmg"
      }
    },
    {
      "cell_type": "markdown",
      "source": [
        "##Изучим параметры по отдельности\n",
        "Построим гистограммы с помощью цикла параметров цены, площади, \n",
        "кол-во комнат, высоты потолков и времени продажи"
      ],
      "metadata": {
        "id": "sddUt6N4jFKb"
      }
    },
    {
      "cell_type": "code",
      "source": [
        "for columns in df[['last_price','total_area','rooms','ceiling_height','days_exposition']]:\n",
        "    range_max = df[columns].max()\n",
        "    range_min = df[columns].min()\n",
        "    df[columns].hist(bins=30, range=(range_min, range_max), figsize=(7,3))\n",
        "    plt.title(columns, fontsize=15)\n",
        "    plt.show()\n",
        "    print(df[columns].describe())"
      ],
      "metadata": {
        "colab": {
          "base_uri": "https://localhost:8080/",
          "height": 1000
        },
        "id": "T0szXaQLEfGH",
        "outputId": "56a366c4-64ed-4742-d2cb-e86b26e09193"
      },
      "execution_count": 60,
      "outputs": [
        {
          "output_type": "display_data",
          "data": {
            "text/plain": [
              "<Figure size 504x216 with 1 Axes>"
            ],
            "image/png": "[encoded data removed]"
          },
          "metadata": {
            "needs_background": "light"
          }
        },
        {
          "output_type": "stream",
          "name": "stdout",
          "text": [
            "count    23650.000000\n",
            "mean         6.541127\n",
            "std         10.896399\n",
            "min          0.012190\n",
            "25%          3.400000\n",
            "50%          4.650000\n",
            "75%          6.799000\n",
            "max        763.000000\n",
            "Name: last_price, dtype: float64\n"
          ]
        },
        {
          "output_type": "display_data",
          "data": {
            "text/plain": [
              "<Figure size 504x216 with 1 Axes>"
            ],
            "image/png": "[encoded data removed]"
          },
          "metadata": {
            "needs_background": "light"
          }
        },
        {
          "output_type": "stream",
          "name": "stdout",
          "text": [
            "count    23650.000000\n",
            "mean        60.329069\n",
            "std         35.661808\n",
            "min         12.000000\n",
            "25%         40.000000\n",
            "50%         52.000000\n",
            "75%         69.700000\n",
            "max        900.000000\n",
            "Name: total_area, dtype: float64\n"
          ]
        },
        {
          "output_type": "display_data",
          "data": {
            "text/plain": [
              "<Figure size 504x216 with 1 Axes>"
            ],
            "image/png": "[encoded data removed]"
          },
          "metadata": {
            "needs_background": "light"
          }
        },
        {
          "output_type": "stream",
          "name": "stdout",
          "text": [
            "count    23650.000000\n",
            "mean         2.070106\n",
            "std          1.078620\n",
            "min          0.000000\n",
            "25%          1.000000\n",
            "50%          2.000000\n",
            "75%          3.000000\n",
            "max         19.000000\n",
            "Name: rooms, dtype: float64\n"
          ]
        },
        {
          "output_type": "display_data",
          "data": {
            "text/plain": [
              "<Figure size 504x216 with 1 Axes>"
            ],
            "image/png": "[encoded data removed]"
          },
          "metadata": {
            "needs_background": "light"
          }
        },
        {
          "output_type": "stream",
          "name": "stdout",
          "text": [
            "count    14490.000000\n",
            "mean         2.771287\n",
            "std          1.261593\n",
            "min          1.000000\n",
            "25%          2.520000\n",
            "50%          2.650000\n",
            "75%          2.800000\n",
            "max        100.000000\n",
            "Name: ceiling_height, dtype: float64\n"
          ]
        },
        {
          "output_type": "display_data",
          "data": {
            "text/plain": [
              "<Figure size 504x216 with 1 Axes>"
            ],
            "image/png": "[encoded data removed]"
          },
          "metadata": {
            "needs_background": "light"
          }
        },
        {
          "output_type": "stream",
          "name": "stdout",
          "text": [
            "count    20470.000000\n",
            "mean       180.753200\n",
            "std        219.777916\n",
            "min          1.000000\n",
            "25%         45.000000\n",
            "50%         95.000000\n",
            "75%        231.000000\n",
            "max       1580.000000\n",
            "Name: days_exposition, dtype: float64\n"
          ]
        }
      ]
    },
    {
      "cell_type": "code",
      "source": [
        "df['last_price'].describe()"
      ],
      "metadata": {
        "colab": {
          "base_uri": "https://localhost:8080/"
        },
        "id": "NaDvHtcJYoeq",
        "outputId": "b407a4f8-cd7a-46d1-81a8-c3ed38d14b05"
      },
      "execution_count": 61,
      "outputs": [
        {
          "output_type": "execute_result",
          "data": {
            "text/plain": [
              "count    23650.000000\n",
              "mean         6.541127\n",
              "std         10.896399\n",
              "min          0.012190\n",
              "25%          3.400000\n",
              "50%          4.650000\n",
              "75%          6.799000\n",
              "max        763.000000\n",
              "Name: last_price, dtype: float64"
            ]
          },
          "metadata": {},
          "execution_count": 61
        }
      ]
    },
    {
      "cell_type": "code",
      "source": [
        "plt.figure(figsize=(8, 5))\n",
        "df.boxplot(column='last_price')\n",
        "plt.title('Поиск аномалий в Last_price', fontsize=15)\n",
        "plt.ylim(-1, 20)\n",
        "plt.show()    "
      ],
      "metadata": {
        "colab": {
          "base_uri": "https://localhost:8080/",
          "height": 339
        },
        "id": "_a7qNhzFGO2Y",
        "outputId": "7b79b56f-92e9-4f49-f281-879bea690f10"
      },
      "execution_count": 62,
      "outputs": [
        {
          "output_type": "display_data",
          "data": {
            "text/plain": [
              "<Figure size 576x360 with 1 Axes>"
            ],
            "image/png": "[encoded data removed]"
          },
          "metadata": {
            "needs_background": "light"
          }
        }
      ]
    },
    {
      "cell_type": "code",
      "source": [
        "plt.figure(figsize=(8, 5))\n",
        "df.boxplot(column='total_area')\n",
        "plt.title('Поиск аномалий в total_area', fontsize=15)\n",
        "plt.ylim(0, 150)\n",
        "plt.show() "
      ],
      "metadata": {
        "colab": {
          "base_uri": "https://localhost:8080/",
          "height": 339
        },
        "id": "CSXqid8vH0jP",
        "outputId": "e580714f-2774-4708-e4eb-57649e808cf8"
      },
      "execution_count": 63,
      "outputs": [
        {
          "output_type": "display_data",
          "data": {
            "text/plain": [
              "<Figure size 576x360 with 1 Axes>"
            ],
            "image/png": "[encoded data removed]"
          },
          "metadata": {
            "needs_background": "light"
          }
        }
      ]
    },
    {
      "cell_type": "code",
      "source": [
        "#Поиск аномалий с boxplot в столбце rooms\n",
        "plt.figure(figsize=(8, 5))\n",
        "df.boxplot(column='rooms')\n",
        "plt.title('Поиск аномалий в rooms', fontsize=15)\n",
        "plt.ylim(-1, 7)\n",
        "plt.show()"
      ],
      "metadata": {
        "colab": {
          "base_uri": "https://localhost:8080/",
          "height": 338
        },
        "id": "l8n7T7DWZgvJ",
        "outputId": "17065d5f-6050-4bba-813e-19de1f0099b7"
      },
      "execution_count": 64,
      "outputs": [
        {
          "output_type": "display_data",
          "data": {
            "text/plain": [
              "<Figure size 576x360 with 1 Axes>"
            ],
            "image/png": "[encoded data removed]"
          },
          "metadata": {
            "needs_background": "light"
          }
        }
      ]
    },
    {
      "cell_type": "code",
      "source": [
        "#Поиск аномалий с boxplot в столбце ceiling_height\n",
        "plt.figure(figsize=(8, 5))\n",
        "df.boxplot(column='ceiling_height')\n",
        "plt.title('Поиск аномалий в ceiling_height', fontsize=15)\n",
        "plt.ylim(0, 5)\n",
        "plt.show()  "
      ],
      "metadata": {
        "colab": {
          "base_uri": "https://localhost:8080/",
          "height": 339
        },
        "id": "yMK33liNZmeq",
        "outputId": "57042efe-1c9d-425a-dda8-4e7ac1b9e7b1"
      },
      "execution_count": 65,
      "outputs": [
        {
          "output_type": "display_data",
          "data": {
            "text/plain": [
              "<Figure size 576x360 with 1 Axes>"
            ],
            "image/png": "[encoded data removed]"
          },
          "metadata": {
            "needs_background": "light"
          }
        }
      ]
    },
    {
      "cell_type": "code",
      "source": [
        "#Поиск аномалий с boxplot в столбце days_exposition\n",
        "plt.figure(figsize=(8, 5))\n",
        "df.boxplot(column='days_exposition')\n",
        "plt.title('Поиск аномалий в days_exposition', fontsize=15)\n",
        "plt.ylim(-10,500)\n",
        "plt.show()"
      ],
      "metadata": {
        "colab": {
          "base_uri": "https://localhost:8080/",
          "height": 339
        },
        "id": "HYYaf_J0Zqzx",
        "outputId": "cbbeb4b5-4aa7-49a1-9b6e-b5239bc0054b"
      },
      "execution_count": 66,
      "outputs": [
        {
          "output_type": "display_data",
          "data": {
            "text/plain": [
              "<Figure size 576x360 with 1 Axes>"
            ],
            "image/png": "[encoded data removed]"
          },
          "metadata": {
            "needs_background": "light"
          }
        }
      ]
    },
    {
      "cell_type": "code",
      "source": [
        "#Проведем срезы по нашим таблицам исходя из аномалий и сразу\n",
        "#посчитаем процент данных, которые мы срезали\n",
        "\n",
        "last_price_slice = df.query('1 <= last_price <= 10')\n",
        "last_price_slice_percent = (last_price_slice.count() / df['last_price'].count())\n",
        "\n",
        "total_area_slice = df.query('10 <= total_area <= 110')\n",
        "total_area_slice_percent = (total_area_slice.count() / df['total_area'].count())\n",
        "\n",
        "rooms_slice = df.query('1 <= rooms <= 6')\n",
        "rooms_slice_percent = (rooms_slice.count() / df['rooms'].count())\n",
        "\n",
        "ceiling_height_slice = df.query('2 < ceiling_height < 3')\n",
        "ceiling_height_slice_percent = (ceiling_height_slice.count() / df['ceiling_height'].count())\n",
        "\n",
        "days_exposition_slice = df.query('22 <= days_exposition <= 450 ')\n",
        "days_exposition_slice_percent = (days_exposition_slice.count() / df['days_exposition'].count())"
      ],
      "metadata": {
        "id": "kCNiGHGxazRQ"
      },
      "execution_count": 67,
      "outputs": []
    },
    {
      "cell_type": "code",
      "source": [
        "print('Под срез со столбца last_price ушло данных: {:.0%}'.format(last_price_slice_percent['last_price']))\n",
        "print('Под срез со столбца total_area ушло данных: {:.0%}'.format(total_area_slice_percent['total_area']))\n",
        "print('Под срез со столбца rooms ушло данных: {:.0%}'.format(rooms_slice_percent['rooms']))\n",
        "print('Под срез со столбца ceiling_height ушло данных: {:.0%}'.format(ceiling_height_slice_percent['ceiling_height']))\n",
        "print('Под срез со столбца days_exposition ушло данных: {:.0%}'.format(days_exposition_slice_percent['days_exposition']))"
      ],
      "metadata": {
        "colab": {
          "base_uri": "https://localhost:8080/"
        },
        "id": "eiGwD300bTWY",
        "outputId": "a94d5ae7-6b72-40f8-a552-b98168475ffb"
      },
      "execution_count": 68,
      "outputs": [
        {
          "output_type": "stream",
          "name": "stdout",
          "text": [
            "Под срез со столбца last_price ушло данных: 88%\n",
            "Под срез со столбца total_area ушло данных: 94%\n",
            "Под срез со столбца rooms ушло данных: 99%\n",
            "Под срез со столбца ceiling_height ушло данных: 82%\n",
            "Под срез со столбца days_exposition ушло данных: 77%\n"
          ]
        }
      ]
    },
    {
      "cell_type": "markdown",
      "source": [
        "Цена квартиры в среднем - 6 миллионов рублей, площадь - 60 кв. метров, с двумя комнатами и высотой полков 2.6 метров.\n",
        "Быстрая продажа квартиры занимает до 22 дней. Средняя продажа занимает от 22 дней до 200 дней. То, что больше - долгая продажа.\n"
      ],
      "metadata": {
        "id": "oeHyVEq1jxY0"
      }
    },
    {
      "cell_type": "markdown",
      "source": [
        "##Факторы, влияющие на цену квартиры\n"
      ],
      "metadata": {
        "id": "z5DZwTA6ivTM"
      }
    },
    {
      "cell_type": "markdown",
      "source": [
        "###Площадь квартиры\n",
        "Посмотрим, как влияет размер площади на цену квартиры"
      ],
      "metadata": {
        "id": "pXjxfl6WrKDh"
      }
    },
    {
      "cell_type": "code",
      "source": [
        "df.plot(y='last_price',x='total_area',kind='scatter', figsize=(8,8))\n",
        "plt.title('Как размер площади влияет на цену квартиры', fontsize=15)"
      ],
      "metadata": {
        "colab": {
          "base_uri": "https://localhost:8080/",
          "height": 534
        },
        "id": "EV9B1Eevmi-T",
        "outputId": "b28ac9a0-981e-42f7-9a25-5ffdd31cb16b"
      },
      "execution_count": 72,
      "outputs": [
        {
          "output_type": "execute_result",
          "data": {
            "text/plain": [
              "Text(0.5, 1.0, 'Как размер площади влияет на цену квартиры')"
            ]
          },
          "metadata": {},
          "execution_count": 72
        },
        {
          "output_type": "display_data",
          "data": {
            "text/plain": [
              "<Figure size 576x576 with 1 Axes>"
            ],
            "image/png": "[encoded data removed]"
          },
          "metadata": {
            "needs_background": "light"
          }
        }
      ]
    },
    {
      "cell_type": "markdown",
      "source": [
        "Корреляция заметна. Чем больше площадь, тем больше цена."
      ],
      "metadata": {
        "id": "4QjqhmJ2neHO"
      }
    },
    {
      "cell_type": "markdown",
      "source": [
        "###Удаленность от центра\n",
        "Как влияет удаленность от на цену квартиры"
      ],
      "metadata": {
        "id": "R1tV-8CkoQoJ"
      }
    },
    {
      "cell_type": "code",
      "source": [
        "df.columns.to_list()"
      ],
      "metadata": {
        "colab": {
          "base_uri": "https://localhost:8080/"
        },
        "id": "smvWg41gp1-J",
        "outputId": "bc187654-a945-4526-dd73-cf0f2fe709d0"
      },
      "execution_count": 76,
      "outputs": [
        {
          "output_type": "execute_result",
          "data": {
            "text/plain": [
              "['total_images',\n",
              " 'last_price',\n",
              " 'total_area',\n",
              " 'first_day_exposition',\n",
              " 'rooms',\n",
              " 'ceiling_height',\n",
              " 'floors_total',\n",
              " 'living_area',\n",
              " 'floor',\n",
              " 'apartment',\n",
              " 'studio',\n",
              " 'open_plan',\n",
              " 'kitchen_area',\n",
              " 'balcony',\n",
              " 'locality_name',\n",
              " 'days_exposition',\n",
              " 'city_сenters_nearest_km',\n",
              " 'airports_nearest_km',\n",
              " 'parks_around_3_km',\n",
              " 'nearest_parks_km',\n",
              " 'ponds_around_3_km',\n",
              " 'nearest_pond_km',\n",
              " 'price_per_meter',\n",
              " 'published_day',\n",
              " 'published_month',\n",
              " 'published_year',\n",
              " 'floor_is',\n",
              " 'ratio_area',\n",
              " 'ratio_kitchen']"
            ]
          },
          "metadata": {},
          "execution_count": 76
        }
      ]
    },
    {
      "cell_type": "code",
      "source": [],
      "metadata": {
        "id": "u6ITmeDsp1fs"
      },
      "execution_count": null,
      "outputs": []
    },
    {
      "cell_type": "code",
      "source": [
        "df.plot(y='last_price',x='city_сenters_nearest_km',kind='scatter', figsize=(12,6))\n",
        "plt.title('Как расстояние до центра влияет на цену квартиры', fontsize=15)\n"
      ],
      "metadata": {
        "colab": {
          "base_uri": "https://localhost:8080/",
          "height": 425
        },
        "id": "cARZOsufobtF",
        "outputId": "112dbe0c-a862-4186-ff0e-2251afaec9e1"
      },
      "execution_count": 77,
      "outputs": [
        {
          "output_type": "execute_result",
          "data": {
            "text/plain": [
              "Text(0.5, 1.0, 'Как расстояние до центра влияет на цену квартиры')"
            ]
          },
          "metadata": {},
          "execution_count": 77
        },
        {
          "output_type": "display_data",
          "data": {
            "text/plain": [
              "<Figure size 864x432 with 1 Axes>"
            ],
            "image/png": "[encoded data removed]"
          },
          "metadata": {
            "needs_background": "light"
          }
        }
      ]
    },
    {
      "cell_type": "markdown",
      "source": [
        "Корреляция есть. Чем квартира ближе к центру, тем она дороже."
      ],
      "metadata": {
        "id": "Y1yC4ltDqfGx"
      }
    },
    {
      "cell_type": "markdown",
      "source": [
        "###Этаж"
      ],
      "metadata": {
        "id": "F1sXWHnUrjJv"
      }
    },
    {
      "cell_type": "code",
      "source": [
        "selling_floors=pd.pivot_table(df, index='floor_is', values='last_price', aggfunc='mean')\n",
        "\n",
        "selling_floors"
      ],
      "metadata": {
        "colab": {
          "base_uri": "https://localhost:8080/",
          "height": 153
        },
        "id": "EceI_Y_GrpHv",
        "outputId": "da8412dc-a48f-4ae2-cd86-bd19ad5fead3"
      },
      "execution_count": 86,
      "outputs": [
        {
          "output_type": "execute_result",
          "data": {
            "text/plain": [
              "           last_price\n",
              "floor_is             \n",
              "другой       6.675825\n",
              "первый       4.800465\n",
              "последний    7.359138"
            ],
            "text/html": [
              "\n",
              "  <div id=\"df-c2f15f03-a23e-46f5-8728-6d0911d6f5c3\">\n",
              "    <div class=\"colab-df-container\">\n",
              "      <div>\n",
              "<style scoped>\n",
              "    .dataframe tbody tr th:only-of-type {\n",
              "        vertical-align: middle;\n",
              "    }\n",
              "\n",
              "    .dataframe tbody tr th {\n",
              "        vertical-align: top;\n",
              "    }\n",
              "\n",
              "    .dataframe thead th {\n",
              "        text-align: right;\n",
              "    }\n",
              "</style>\n",
              "<table border=\"1\" class=\"dataframe\">\n",
              "  <thead>\n",
              "    <tr style=\"text-align: right;\">\n",
              "      <th></th>\n",
              "      <th>last_price</th>\n",
              "    </tr>\n",
              "    <tr>\n",
              "      <th>floor_is</th>\n",
              "      <th></th>\n",
              "    </tr>\n",
              "  </thead>\n",
              "  <tbody>\n",
              "    <tr>\n",
              "      <th>другой</th>\n",
              "      <td>6.675825</td>\n",
              "    </tr>\n",
              "    <tr>\n",
              "      <th>первый</th>\n",
              "      <td>4.800465</td>\n",
              "    </tr>\n",
              "    <tr>\n",
              "      <th>последний</th>\n",
              "      <td>7.359138</td>\n",
              "    </tr>\n",
              "  </tbody>\n",
              "</table>\n",
              "</div>\n",
              "      <button class=\"colab-df-convert\" onclick=\"convertToInteractive('df-c2f15f03-a23e-46f5-8728-6d0911d6f5c3')\"\n",
              "              title=\"Convert this dataframe to an interactive table.\"\n",
              "              style=\"display:none;\">\n",
              "        \n",
              "  <svg xmlns=\"http://www.w3.org/2000/svg\" height=\"24px\"viewBox=\"0 0 24 24\"\n",
              "       width=\"24px\">\n",
              "    <path d=\"M0 0h24v24H0V0z\" fill=\"none\"/>\n",
              "    <path d=\"M18.56 5.44l.94 2.06.94-2.06 2.06-.94-2.06-.94-.94-2.06-.94 2.06-2.06.94zm-11 1L8.5 8.5l.94-2.06 2.06-.94-2.06-.94L8.5 2.5l-.94 2.06-2.06.94zm10 10l.94 2.06.94-2.06 2.06-.94-2.06-.94-.94-2.06-.94 2.06-2.06.94z\"/><path d=\"M17.41 7.96l-1.37-1.37c-.4-.4-.92-.59-1.43-.59-.52 0-1.04.2-1.43.59L10.3 9.45l-7.72 7.72c-.78.78-.78 2.05 0 2.83L4 21.41c.39.39.9.59 1.41.59.51 0 1.02-.2 1.41-.59l7.78-7.78 2.81-2.81c.8-.78.8-2.07 0-2.86zM5.41 20L4 18.59l7.72-7.72 1.47 1.35L5.41 20z\"/>\n",
              "  </svg>\n",
              "      </button>\n",
              "      \n",
              "  <style>\n",
              "    .colab-df-container {\n",
              "      display:flex;\n",
              "      flex-wrap:wrap;\n",
              "      gap: 12px;\n",
              "    }\n",
              "\n",
              "    .colab-df-convert {\n",
              "      background-color: #E8F0FE;\n",
              "      border: none;\n",
              "      border-radius: 50%;\n",
              "      cursor: pointer;\n",
              "      display: none;\n",
              "      fill: #1967D2;\n",
              "      height: 32px;\n",
              "      padding: 0 0 0 0;\n",
              "      width: 32px;\n",
              "    }\n",
              "\n",
              "    .colab-df-convert:hover {\n",
              "      background-color: #E2EBFA;\n",
              "      box-shadow: 0px 1px 2px rgba(60, 64, 67, 0.3), 0px 1px 3px 1px rgba(60, 64, 67, 0.15);\n",
              "      fill: #174EA6;\n",
              "    }\n",
              "\n",
              "    [theme=dark] .colab-df-convert {\n",
              "      background-color: #3B4455;\n",
              "      fill: #D2E3FC;\n",
              "    }\n",
              "\n",
              "    [theme=dark] .colab-df-convert:hover {\n",
              "      background-color: #434B5C;\n",
              "      box-shadow: 0px 1px 3px 1px rgba(0, 0, 0, 0.15);\n",
              "      filter: drop-shadow(0px 1px 2px rgba(0, 0, 0, 0.3));\n",
              "      fill: #FFFFFF;\n",
              "    }\n",
              "  </style>\n",
              "\n",
              "      <script>\n",
              "        const buttonEl =\n",
              "          document.querySelector('#df-c2f15f03-a23e-46f5-8728-6d0911d6f5c3 button.colab-df-convert');\n",
              "        buttonEl.style.display =\n",
              "          google.colab.kernel.accessAllowed ? 'block' : 'none';\n",
              "\n",
              "        async function convertToInteractive(key) {\n",
              "          const element = document.querySelector('#df-c2f15f03-a23e-46f5-8728-6d0911d6f5c3');\n",
              "          const dataTable =\n",
              "            await google.colab.kernel.invokeFunction('convertToInteractive',\n",
              "                                                     [key], {});\n",
              "          if (!dataTable) return;\n",
              "\n",
              "          const docLinkHtml = 'Like what you see? Visit the ' +\n",
              "            '<a target=\"_blank\" href=https://colab.research.google.com/notebooks/data_table.ipynb>data table notebook</a>'\n",
              "            + ' to learn more about interactive tables.';\n",
              "          element.innerHTML = '';\n",
              "          dataTable['output_type'] = 'display_data';\n",
              "          await google.colab.output.renderOutput(dataTable, element);\n",
              "          const docLink = document.createElement('div');\n",
              "          docLink.innerHTML = docLinkHtml;\n",
              "          element.appendChild(docLink);\n",
              "        }\n",
              "      </script>\n",
              "    </div>\n",
              "  </div>\n",
              "  "
            ],
            "application/vnd.google.colaboratory.module+javascript": "\n      import \"https://ssl.gstatic.com/colaboratory/data_table/a8bd4d5e58f96183/data_table.js\";\n\n      window.createDataTable({\n        data: [[\"\\u0434\\u0440\\u0443\\u0433\\u043e\\u0439\",\n{\n            'v': 6.675825437327666,\n            'f': \"6.675825437327666\",\n        }],\n [\"\\u043f\\u0435\\u0440\\u0432\\u044b\\u0439\",\n{\n            'v': 4.800464643543956,\n            'f': \"4.800464643543956\",\n        }],\n [\"\\u043f\\u043e\\u0441\\u043b\\u0435\\u0434\\u043d\\u0438\\u0439\",\n{\n            'v': 7.359137802102102,\n            'f': \"7.359137802102102\",\n        }]],\n        columns: [[\"string\", \"floor_is\"], [\"number\", \"last_price\"]],\n        columnOptions: [{\"width\": \"1px\", \"className\": \"index_column\"}],\n        rowsPerPage: 25,\n        helpUrl: \"https://colab.research.google.com/notebooks/data_table.ipynb\",\n        suppressOutputScrolling: true,\n        minimumWidth: undefined,\n      });\n    "
          },
          "metadata": {},
          "execution_count": 86
        }
      ]
    },
    {
      "cell_type": "code",
      "source": [
        "selling_floors.plot(y='last_price',style='o-', grid=True, figsize=(12,6))\n",
        "plt.title('Квартира на каком этаже стоит дороже/дешевле', fontsize=15)"
      ],
      "metadata": {
        "colab": {
          "base_uri": "https://localhost:8080/",
          "height": 425
        },
        "id": "U62ivNAxvA3p",
        "outputId": "e7278bca-600f-47ed-c70b-2aea6c3db112"
      },
      "execution_count": 92,
      "outputs": [
        {
          "output_type": "execute_result",
          "data": {
            "text/plain": [
              "Text(0.5, 1.0, 'Квартира на каком этаже стоит дороже/дешевле')"
            ]
          },
          "metadata": {},
          "execution_count": 92
        },
        {
          "output_type": "display_data",
          "data": {
            "text/plain": [
              "<Figure size 864x432 with 1 Axes>"
            ],
            "image/png": "[encoded data removed]"
          },
          "metadata": {
            "needs_background": "light"
          }
        }
      ]
    },
    {
      "cell_type": "markdown",
      "source": [
        "Зависимость есть. Квартиры на первом этаже дешевле всех. С ростом этажа растет и цен а, за квадратный метр."
      ],
      "metadata": {
        "id": "q1Na4OC8vmtt"
      }
    },
    {
      "cell_type": "markdown",
      "source": [
        "###Год размещения\n",
        "Посмотрим, если ли зависимость цены на квадратный метр от года размещения."
      ],
      "metadata": {
        "id": "JTABDKu7wjSf"
      }
    },
    {
      "cell_type": "code",
      "source": [
        "#Посмотрим как менялась цена в разные года\n",
        "selling_year=pd.pivot_table(df, index='published_year', values='price_per_meter')\n",
        "selling_year.sort_values(by='price_per_meter', ascending=False)"
      ],
      "metadata": {
        "colab": {
          "base_uri": "https://localhost:8080/",
          "height": 218
        },
        "id": "F53u4e-rwRHf",
        "outputId": "1e0e61de-ddcb-4a8b-ee82-2e9faca2d888"
      },
      "execution_count": 93,
      "outputs": [
        {
          "output_type": "execute_result",
          "data": {
            "text/plain": [
              "                price_per_meter\n",
              "published_year                 \n",
              "2014                   0.124302\n",
              "2019                   0.107124\n",
              "2015                   0.104719\n",
              "2016                   0.098295\n",
              "2018                   0.097800\n",
              "2017                   0.097637"
            ],
            "text/html": [
              "\n",
              "  <div id=\"df-b54bf360-80fb-44a4-baed-25dcd08ad31a\">\n",
              "    <div class=\"colab-df-container\">\n",
              "      <div>\n",
              "<style scoped>\n",
              "    .dataframe tbody tr th:only-of-type {\n",
              "        vertical-align: middle;\n",
              "    }\n",
              "\n",
              "    .dataframe tbody tr th {\n",
              "        vertical-align: top;\n",
              "    }\n",
              "\n",
              "    .dataframe thead th {\n",
              "        text-align: right;\n",
              "    }\n",
              "</style>\n",
              "<table border=\"1\" class=\"dataframe\">\n",
              "  <thead>\n",
              "    <tr style=\"text-align: right;\">\n",
              "      <th></th>\n",
              "      <th>price_per_meter</th>\n",
              "    </tr>\n",
              "    <tr>\n",
              "      <th>published_year</th>\n",
              "      <th></th>\n",
              "    </tr>\n",
              "  </thead>\n",
              "  <tbody>\n",
              "    <tr>\n",
              "      <th>2014</th>\n",
              "      <td>0.124302</td>\n",
              "    </tr>\n",
              "    <tr>\n",
              "      <th>2019</th>\n",
              "      <td>0.107124</td>\n",
              "    </tr>\n",
              "    <tr>\n",
              "      <th>2015</th>\n",
              "      <td>0.104719</td>\n",
              "    </tr>\n",
              "    <tr>\n",
              "      <th>2016</th>\n",
              "      <td>0.098295</td>\n",
              "    </tr>\n",
              "    <tr>\n",
              "      <th>2018</th>\n",
              "      <td>0.097800</td>\n",
              "    </tr>\n",
              "    <tr>\n",
              "      <th>2017</th>\n",
              "      <td>0.097637</td>\n",
              "    </tr>\n",
              "  </tbody>\n",
              "</table>\n",
              "</div>\n",
              "      <button class=\"colab-df-convert\" onclick=\"convertToInteractive('df-b54bf360-80fb-44a4-baed-25dcd08ad31a')\"\n",
              "              title=\"Convert this dataframe to an interactive table.\"\n",
              "              style=\"display:none;\">\n",
              "        \n",
              "  <svg xmlns=\"http://www.w3.org/2000/svg\" height=\"24px\"viewBox=\"0 0 24 24\"\n",
              "       width=\"24px\">\n",
              "    <path d=\"M0 0h24v24H0V0z\" fill=\"none\"/>\n",
              "    <path d=\"M18.56 5.44l.94 2.06.94-2.06 2.06-.94-2.06-.94-.94-2.06-.94 2.06-2.06.94zm-11 1L8.5 8.5l.94-2.06 2.06-.94-2.06-.94L8.5 2.5l-.94 2.06-2.06.94zm10 10l.94 2.06.94-2.06 2.06-.94-2.06-.94-.94-2.06-.94 2.06-2.06.94z\"/><path d=\"M17.41 7.96l-1.37-1.37c-.4-.4-.92-.59-1.43-.59-.52 0-1.04.2-1.43.59L10.3 9.45l-7.72 7.72c-.78.78-.78 2.05 0 2.83L4 21.41c.39.39.9.59 1.41.59.51 0 1.02-.2 1.41-.59l7.78-7.78 2.81-2.81c.8-.78.8-2.07 0-2.86zM5.41 20L4 18.59l7.72-7.72 1.47 1.35L5.41 20z\"/>\n",
              "  </svg>\n",
              "      </button>\n",
              "      \n",
              "  <style>\n",
              "    .colab-df-container {\n",
              "      display:flex;\n",
              "      flex-wrap:wrap;\n",
              "      gap: 12px;\n",
              "    }\n",
              "\n",
              "    .colab-df-convert {\n",
              "      background-color: #E8F0FE;\n",
              "      border: none;\n",
              "      border-radius: 50%;\n",
              "      cursor: pointer;\n",
              "      display: none;\n",
              "      fill: #1967D2;\n",
              "      height: 32px;\n",
              "      padding: 0 0 0 0;\n",
              "      width: 32px;\n",
              "    }\n",
              "\n",
              "    .colab-df-convert:hover {\n",
              "      background-color: #E2EBFA;\n",
              "      box-shadow: 0px 1px 2px rgba(60, 64, 67, 0.3), 0px 1px 3px 1px rgba(60, 64, 67, 0.15);\n",
              "      fill: #174EA6;\n",
              "    }\n",
              "\n",
              "    [theme=dark] .colab-df-convert {\n",
              "      background-color: #3B4455;\n",
              "      fill: #D2E3FC;\n",
              "    }\n",
              "\n",
              "    [theme=dark] .colab-df-convert:hover {\n",
              "      background-color: #434B5C;\n",
              "      box-shadow: 0px 1px 3px 1px rgba(0, 0, 0, 0.15);\n",
              "      filter: drop-shadow(0px 1px 2px rgba(0, 0, 0, 0.3));\n",
              "      fill: #FFFFFF;\n",
              "    }\n",
              "  </style>\n",
              "\n",
              "      <script>\n",
              "        const buttonEl =\n",
              "          document.querySelector('#df-b54bf360-80fb-44a4-baed-25dcd08ad31a button.colab-df-convert');\n",
              "        buttonEl.style.display =\n",
              "          google.colab.kernel.accessAllowed ? 'block' : 'none';\n",
              "\n",
              "        async function convertToInteractive(key) {\n",
              "          const element = document.querySelector('#df-b54bf360-80fb-44a4-baed-25dcd08ad31a');\n",
              "          const dataTable =\n",
              "            await google.colab.kernel.invokeFunction('convertToInteractive',\n",
              "                                                     [key], {});\n",
              "          if (!dataTable) return;\n",
              "\n",
              "          const docLinkHtml = 'Like what you see? Visit the ' +\n",
              "            '<a target=\"_blank\" href=https://colab.research.google.com/notebooks/data_table.ipynb>data table notebook</a>'\n",
              "            + ' to learn more about interactive tables.';\n",
              "          element.innerHTML = '';\n",
              "          dataTable['output_type'] = 'display_data';\n",
              "          await google.colab.output.renderOutput(dataTable, element);\n",
              "          const docLink = document.createElement('div');\n",
              "          docLink.innerHTML = docLinkHtml;\n",
              "          element.appendChild(docLink);\n",
              "        }\n",
              "      </script>\n",
              "    </div>\n",
              "  </div>\n",
              "  "
            ],
            "application/vnd.google.colaboratory.module+javascript": "\n      import \"https://ssl.gstatic.com/colaboratory/data_table/a8bd4d5e58f96183/data_table.js\";\n\n      window.createDataTable({\n        data: [[{\n            'v': 2014,\n            'f': \"2014\",\n        },\n{\n            'v': 0.12430235570348837,\n            'f': \"0.12430235570348837\",\n        }],\n [{\n            'v': 2019,\n            'f': \"2019\",\n        },\n{\n            'v': 0.10712378030515833,\n            'f': \"0.10712378030515833\",\n        }],\n [{\n            'v': 2015,\n            'f': \"2015\",\n        },\n{\n            'v': 0.10471909854104226,\n            'f': \"0.10471909854104226\",\n        }],\n [{\n            'v': 2016,\n            'f': \"2016\",\n        },\n{\n            'v': 0.0982953725986167,\n            'f': \"0.0982953725986167\",\n        }],\n [{\n            'v': 2018,\n            'f': \"2018\",\n        },\n{\n            'v': 0.09780006585977803,\n            'f': \"0.09780006585977803\",\n        }],\n [{\n            'v': 2017,\n            'f': \"2017\",\n        },\n{\n            'v': 0.09763736015246328,\n            'f': \"0.09763736015246328\",\n        }]],\n        columns: [[\"number\", \"published_year\"], [\"number\", \"price_per_meter\"]],\n        columnOptions: [{\"width\": \"1px\", \"className\": \"index_column\"}],\n        rowsPerPage: 25,\n        helpUrl: \"https://colab.research.google.com/notebooks/data_table.ipynb\",\n        suppressOutputScrolling: true,\n        minimumWidth: undefined,\n      });\n    "
          },
          "metadata": {},
          "execution_count": 93
        }
      ]
    },
    {
      "cell_type": "code",
      "source": [
        "selling_year.plot(y='price_per_meter',style='o-', grid=True, figsize=(12,6))\n",
        "plt.title('Зависимость от года размещения на цену квартиры', fontsize=15)"
      ],
      "metadata": {
        "colab": {
          "base_uri": "https://localhost:8080/",
          "height": 425
        },
        "id": "1i6tfLHDxQi8",
        "outputId": "f817e114-c78b-4f51-ec77-af9cdf8865d8"
      },
      "execution_count": 94,
      "outputs": [
        {
          "output_type": "execute_result",
          "data": {
            "text/plain": [
              "Text(0.5, 1.0, 'Зависимость от года размещения на цену квартиры')"
            ]
          },
          "metadata": {},
          "execution_count": 94
        },
        {
          "output_type": "display_data",
          "data": {
            "text/plain": [
              "<Figure size 864x432 with 1 Axes>"
            ],
            "image/png": "[encoded data removed]"
          },
          "metadata": {
            "needs_background": "light"
          }
        }
      ]
    },
    {
      "cell_type": "markdown",
      "source": [
        "Зависимость очевидна. В 2016 - 2018 цены за квадратный метр были значительно ниже, что свидетельствует о \"проседании\" рынка недвижимости в Санкт-Петербурге."
      ],
      "metadata": {
        "id": "x9unapKqzxcM"
      }
    },
    {
      "cell_type": "markdown",
      "source": [
        "#Шаг 5. Общий вывод"
      ],
      "metadata": {
        "id": "rPVqrI3i08dW"
      }
    },
    {
      "cell_type": "markdown",
      "source": [
        "Проанализировав вводные данные, я проверил их на пропуски и аномалии. Пропуски заполнил недостающими значениями, удалил или оставил как есть если это было уместно. Изменил типы данных в столбцах где это было необходимо.\n",
        "\n",
        "Далее я посчитал и добавил в таблицу цену квадратного метра, день недели, месяц и год публикации объявления, этаж квартиры, соотношение жилой и общей площади.\n",
        "\n",
        "Проведя исследовательский анализ, я выяснил, что средняя стоимость квартиры составляет 6 миллионов рублей, средняя площадь - 60 кв. м, количество комнат - две, а высота потолков - 2.6 м. Цена квартиры напрямую зависит от ее площади и удаленности от центра. Цена квадратного метра ниже всего на первом этаже. В 2016 - 2018 годах наблюдался спад покупательной активности на рынке недвижимости."
      ],
      "metadata": {
        "id": "3pO9F-9iCUDj"
      }
    }
  ]
}